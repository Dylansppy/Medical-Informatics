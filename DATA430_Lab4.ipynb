{
  "nbformat": 4,
  "nbformat_minor": 0,
  "metadata": {
    "colab": {
      "name": "DATA430 Lab4.ipynb",
      "version": "0.3.2",
      "provenance": [],
      "collapsed_sections": [],
      "toc_visible": true
    },
    "kernelspec": {
      "name": "python3",
      "display_name": "Python 3"
    },
    "accelerator": "GPU"
  },
  "cells": [
    {
      "cell_type": "markdown",
      "metadata": {
        "id": "e-RNZvDwFSuA",
        "colab_type": "text"
      },
      "source": [
        "*Note this is starter code, you need to make your own copy of this, File -> Save a copy in Drive, and then edit your own copy*"
      ]
    },
    {
      "cell_type": "markdown",
      "metadata": {
        "id": "d_HuNj13VCZP",
        "colab_type": "text"
      },
      "source": [
        "#Setup: load the data, install libraries"
      ]
    },
    {
      "cell_type": "code",
      "metadata": {
        "id": "47a0ensnYLU_",
        "colab_type": "code",
        "outputId": "7747cd99-b71b-4c1e-94d4-14d7177cbcb2",
        "colab": {
          "base_uri": "https://localhost:8080/",
          "height": 1000
        }
      },
      "source": [
        "#download data from google drive\n",
        "!pip install -U -q PyDrive\n",
        "from pydrive.auth import GoogleAuth\n",
        "from pydrive.drive import GoogleDrive\n",
        "from google.colab import auth\n",
        "from oauth2client.client import GoogleCredentials\n",
        "\n",
        "# 1. Authenticate and create the PyDrive client.\n",
        "auth.authenticate_user()\n",
        "gauth = GoogleAuth()\n",
        "gauth.credentials = GoogleCredentials.get_application_default()\n",
        "drive = GoogleDrive(gauth)\n",
        "\n",
        "# 2. Download actual file\n",
        "file_dia = drive.CreateFile({'id': '1aaYw_S3868IcWGMuimKzOdAvXahn58Y1'})\n",
        "file_dia.GetContentFile('arrythmia.csv')\n",
        "\n",
        "file_zip = drive.CreateFile({'id': '1H_ZzQ4LOBX_GlhpnWwnIEYxRVgVQERBk'})\n",
        "file_zip.GetContentFile('mit-bih-arrhythmia-database-1.0.0.zip')\n",
        "\n",
        "!unzip -o mit-bih-arrhythmia-database-1.0.0.zip\n",
        "\n",
        "#install wfdb\n",
        "!pip install wfdb\n"
      ],
      "execution_count": 2,
      "outputs": [
        {
          "output_type": "stream",
          "text": [
            "Archive:  mit-bih-arrhythmia-database-1.0.0.zip\n",
            " extracting: mit-bih-arrhythmia-database-1.0.0/231.atr  \n",
            " extracting: mit-bih-arrhythmia-database-1.0.0/214.atr  \n",
            " extracting: mit-bih-arrhythmia-database-1.0.0/203.hea  \n",
            " extracting: mit-bih-arrhythmia-database-1.0.0/202.xws  \n",
            " extracting: mit-bih-arrhythmia-database-1.0.0/234.xws  \n",
            " extracting: mit-bih-arrhythmia-database-1.0.0/205.xws  \n",
            " extracting: mit-bih-arrhythmia-database-1.0.0/228.dat  \n",
            " extracting: mit-bih-arrhythmia-database-1.0.0/index.shtml.shtml  \n",
            " extracting: mit-bih-arrhythmia-database-1.0.0/220.xws  \n",
            " extracting: mit-bih-arrhythmia-database-1.0.0/117.atr  \n",
            " extracting: mit-bih-arrhythmia-database-1.0.0/233.xws  \n",
            " extracting: mit-bih-arrhythmia-database-1.0.0/234.hea  \n",
            " extracting: mit-bih-arrhythmia-database-1.0.0/108.hea  \n",
            " extracting: mit-bih-arrhythmia-database-1.0.0/205.hea  \n",
            " extracting: mit-bih-arrhythmia-database-1.0.0/231.dat  \n",
            " extracting: mit-bih-arrhythmia-database-1.0.0/220.dat  \n",
            " extracting: mit-bih-arrhythmia-database-1.0.0/203.at-  \n",
            " extracting: mit-bih-arrhythmia-database-1.0.0/124.dat  \n",
            " extracting: mit-bih-arrhythmia-database-1.0.0/221.hea  \n",
            " extracting: mit-bih-arrhythmia-database-1.0.0/102.atr  \n",
            " extracting: mit-bih-arrhythmia-database-1.0.0/SHA256SUMS.txt  \n",
            " extracting: mit-bih-arrhythmia-database-1.0.0/201.atr  \n",
            " extracting: mit-bih-arrhythmia-database-1.0.0/222.xws  \n",
            " extracting: mit-bih-arrhythmia-database-1.0.0/222.at_  \n",
            " extracting: mit-bih-arrhythmia-database-1.0.0/207.hea  \n",
            " extracting: mit-bih-arrhythmia-database-1.0.0/123.hea  \n",
            " extracting: mit-bih-arrhythmia-database-1.0.0/109.xws  \n",
            " extracting: mit-bih-arrhythmia-database-1.0.0/114.dat  \n",
            " extracting: mit-bih-arrhythmia-database-1.0.0/222.dat  \n",
            " extracting: mit-bih-arrhythmia-database-1.0.0/208.atr  \n",
            " extracting: mit-bih-arrhythmia-database-1.0.0/115.xws  \n",
            " extracting: mit-bih-arrhythmia-database-1.0.0/219.atr  \n",
            " extracting: mit-bih-arrhythmia-database-1.0.0/210.dat  \n",
            " extracting: mit-bih-arrhythmia-database-1.0.0/116.dat  \n",
            " extracting: mit-bih-arrhythmia-database-1.0.0/213.hea  \n",
            " extracting: mit-bih-arrhythmia-database-1.0.0/220.hea  \n",
            " extracting: mit-bih-arrhythmia-database-1.0.0/118.atr  \n",
            " extracting: mit-bih-arrhythmia-database-1.0.0/114.hea  \n",
            " extracting: mit-bih-arrhythmia-database-1.0.0/116.hea  \n",
            " extracting: mit-bih-arrhythmia-database-1.0.0/213.xws  \n",
            " extracting: mit-bih-arrhythmia-database-1.0.0/111.xws  \n",
            " extracting: mit-bih-arrhythmia-database-1.0.0/114.xws  \n",
            " extracting: mit-bih-arrhythmia-database-1.0.0/212.atr  \n",
            " extracting: mit-bih-arrhythmia-database-1.0.0/101.atr  \n",
            " extracting: mit-bih-arrhythmia-database-1.0.0/RECORDS  \n",
            " extracting: mit-bih-arrhythmia-database-1.0.0/107.xws  \n",
            " extracting: mit-bih-arrhythmia-database-1.0.0/233.atr  \n",
            " extracting: mit-bih-arrhythmia-database-1.0.0/215.xws  \n",
            " extracting: mit-bih-arrhythmia-database-1.0.0/100.dat  \n",
            " extracting: mit-bih-arrhythmia-database-1.0.0/113.atr  \n",
            " extracting: mit-bih-arrhythmia-database-1.0.0/112.xws  \n",
            " extracting: mit-bih-arrhythmia-database-1.0.0/223.xws  \n",
            " extracting: mit-bih-arrhythmia-database-1.0.0/103.hea  \n",
            " extracting: mit-bih-arrhythmia-database-1.0.0/104.xws  \n",
            " extracting: mit-bih-arrhythmia-database-1.0.0/228.hea  \n",
            " extracting: mit-bih-arrhythmia-database-1.0.0/117.xws  \n",
            " extracting: mit-bih-arrhythmia-database-1.0.0/116.atr  \n",
            " extracting: mit-bih-arrhythmia-database-1.0.0/122.xws  \n",
            " extracting: mit-bih-arrhythmia-database-1.0.0/231.hea  \n",
            " extracting: mit-bih-arrhythmia-database-1.0.0/203.atr  \n",
            " extracting: mit-bih-arrhythmia-database-1.0.0/109.atr  \n",
            " extracting: mit-bih-arrhythmia-database-1.0.0/100.xws  \n",
            " extracting: mit-bih-arrhythmia-database-1.0.0/102.dat  \n",
            " extracting: mit-bih-arrhythmia-database-1.0.0/103.xws  \n",
            " extracting: mit-bih-arrhythmia-database-1.0.0/219.hea  \n",
            " extracting: mit-bih-arrhythmia-database-1.0.0/121.atr  \n",
            " extracting: mit-bih-arrhythmia-database-1.0.0/101.dat  \n",
            " extracting: mit-bih-arrhythmia-database-1.0.0/107.hea  \n",
            " extracting: mit-bih-arrhythmia-database-1.0.0/233.dat  \n",
            " extracting: mit-bih-arrhythmia-database-1.0.0/208.xws  \n",
            " extracting: mit-bih-arrhythmia-database-1.0.0/201.hea  \n",
            " extracting: mit-bih-arrhythmia-database-1.0.0/123.dat  \n",
            " extracting: mit-bih-arrhythmia-database-1.0.0/102.xws  \n",
            " extracting: mit-bih-arrhythmia-database-1.0.0/107.dat  \n",
            " extracting: mit-bih-arrhythmia-database-1.0.0/231.xws  \n",
            " extracting: mit-bih-arrhythmia-database-1.0.0/102.hea  \n",
            " extracting: mit-bih-arrhythmia-database-1.0.0/118.hea  \n",
            " extracting: mit-bih-arrhythmia-database-1.0.0/101.hea  \n",
            " extracting: mit-bih-arrhythmia-database-1.0.0/106.xws  \n",
            " extracting: mit-bih-arrhythmia-database-1.0.0/108.xws  \n",
            " extracting: mit-bih-arrhythmia-database-1.0.0/121.hea  \n",
            " extracting: mit-bih-arrhythmia-database-1.0.0/215.atr  \n",
            " extracting: mit-bih-arrhythmia-database-1.0.0/119.dat  \n",
            " extracting: mit-bih-arrhythmia-database-1.0.0/220.atr  \n",
            " extracting: mit-bih-arrhythmia-database-1.0.0/121.dat  \n",
            " extracting: mit-bih-arrhythmia-database-1.0.0/219.dat  \n",
            " extracting: mit-bih-arrhythmia-database-1.0.0/108.atr  \n",
            " extracting: mit-bih-arrhythmia-database-1.0.0/119.at_  \n",
            " extracting: mit-bih-arrhythmia-database-1.0.0/213.atr  \n",
            " extracting: mit-bih-arrhythmia-database-1.0.0/221.dat  \n",
            " extracting: mit-bih-arrhythmia-database-1.0.0/118.dat  \n",
            " extracting: mit-bih-arrhythmia-database-1.0.0/230.atr  \n",
            " extracting: mit-bih-arrhythmia-database-1.0.0/221.atr  \n",
            " extracting: mit-bih-arrhythmia-database-1.0.0/117.hea  \n",
            " extracting: mit-bih-arrhythmia-database-1.0.0/214.xws  \n",
            " extracting: mit-bih-arrhythmia-database-1.0.0/219.xws  \n",
            " extracting: mit-bih-arrhythmia-database-1.0.0/104.dat  \n",
            " extracting: mit-bih-arrhythmia-database-1.0.0/102-0.atr  \n",
            " extracting: mit-bih-arrhythmia-database-1.0.0/201.dat  \n",
            " extracting: mit-bih-arrhythmia-database-1.0.0/117.dat  \n",
            " extracting: mit-bih-arrhythmia-database-1.0.0/200.atr  \n",
            " extracting: mit-bih-arrhythmia-database-1.0.0/234.atr  \n",
            " extracting: mit-bih-arrhythmia-database-1.0.0/207.atr  \n",
            " extracting: mit-bih-arrhythmia-database-1.0.0/113.xws  \n",
            " extracting: mit-bih-arrhythmia-database-1.0.0/105.atr  \n",
            " extracting: mit-bih-arrhythmia-database-1.0.0/233.hea  \n",
            " extracting: mit-bih-arrhythmia-database-1.0.0/201.xws  \n",
            " extracting: mit-bih-arrhythmia-database-1.0.0/118.xws  \n",
            " extracting: mit-bih-arrhythmia-database-1.0.0/214.at_  \n",
            " extracting: mit-bih-arrhythmia-database-1.0.0/103.atr  \n",
            " extracting: mit-bih-arrhythmia-database-1.0.0/209.hea  \n",
            " extracting: mit-bih-arrhythmia-database-1.0.0/111.atr  \n",
            " extracting: mit-bih-arrhythmia-database-1.0.0/217.hea  \n",
            " extracting: mit-bih-arrhythmia-database-1.0.0/203.dat  \n",
            " extracting: mit-bih-arrhythmia-database-1.0.0/207.dat  \n",
            " extracting: mit-bih-arrhythmia-database-1.0.0/222.hea  \n",
            " extracting: mit-bih-arrhythmia-database-1.0.0/215.at_  \n",
            " extracting: mit-bih-arrhythmia-database-1.0.0/234.dat  \n",
            " extracting: mit-bih-arrhythmia-database-1.0.0/117.at_  \n",
            " extracting: mit-bih-arrhythmia-database-1.0.0/ANNOTATORS  \n",
            " extracting: mit-bih-arrhythmia-database-1.0.0/121.xws  \n",
            " extracting: mit-bih-arrhythmia-database-1.0.0/119.atr  \n",
            " extracting: mit-bih-arrhythmia-database-1.0.0/123.atr  \n",
            " extracting: mit-bih-arrhythmia-database-1.0.0/109.dat  \n",
            " extracting: mit-bih-arrhythmia-database-1.0.0/122.hea  \n",
            " extracting: mit-bih-arrhythmia-database-1.0.0/223.dat  \n",
            " extracting: mit-bih-arrhythmia-database-1.0.0/112.dat  \n",
            " extracting: mit-bih-arrhythmia-database-1.0.0/103.dat  \n",
            " extracting: mit-bih-arrhythmia-database-1.0.0/100.hea  \n",
            " extracting: mit-bih-arrhythmia-database-1.0.0/115.hea  \n",
            " extracting: mit-bih-arrhythmia-database-1.0.0/122.dat  \n",
            " extracting: mit-bih-arrhythmia-database-1.0.0/119.xws  \n",
            " extracting: mit-bih-arrhythmia-database-1.0.0/109.hea  \n",
            " extracting: mit-bih-arrhythmia-database-1.0.0/232.atr  \n",
            " extracting: mit-bih-arrhythmia-database-1.0.0/112.hea  \n",
            " extracting: mit-bih-arrhythmia-database-1.0.0/217.dat  \n",
            " extracting: mit-bih-arrhythmia-database-1.0.0/113.dat  \n",
            " extracting: mit-bih-arrhythmia-database-1.0.0/104.hea  \n",
            " extracting: mit-bih-arrhythmia-database-1.0.0/202.dat  \n",
            " extracting: mit-bih-arrhythmia-database-1.0.0/124.atr  \n",
            " extracting: mit-bih-arrhythmia-database-1.0.0/221.xws  \n",
            " extracting: mit-bih-arrhythmia-database-1.0.0/230.hea  \n",
            " extracting: mit-bih-arrhythmia-database-1.0.0/112.atr  \n",
            " extracting: mit-bih-arrhythmia-database-1.0.0/212.hea  \n",
            " extracting: mit-bih-arrhythmia-database-1.0.0/124.hea  \n",
            " extracting: mit-bih-arrhythmia-database-1.0.0/212.dat  \n",
            " extracting: mit-bih-arrhythmia-database-1.0.0/106.dat  \n",
            " extracting: mit-bih-arrhythmia-database-1.0.0/223.atr  \n",
            " extracting: mit-bih-arrhythmia-database-1.0.0/202.atr  \n",
            " extracting: mit-bih-arrhythmia-database-1.0.0/106.atr  \n",
            " extracting: mit-bih-arrhythmia-database-1.0.0/104.atr  \n",
            " extracting: mit-bih-arrhythmia-database-1.0.0/116.xws  \n",
            " extracting: mit-bih-arrhythmia-database-1.0.0/105.dat  \n",
            " extracting: mit-bih-arrhythmia-database-1.0.0/106.hea  \n",
            " extracting: mit-bih-arrhythmia-database-1.0.0/230.xws  \n",
            " extracting: mit-bih-arrhythmia-database-1.0.0/202.hea  \n",
            " extracting: mit-bih-arrhythmia-database-1.0.0/111.dat  \n",
            " extracting: mit-bih-arrhythmia-database-1.0.0/119.hea  \n",
            " extracting: mit-bih-arrhythmia-database-1.0.0/209.at_  \n",
            " extracting: mit-bih-arrhythmia-database-1.0.0/228.xws  \n",
            " extracting: mit-bih-arrhythmia-database-1.0.0/222.atr  \n",
            " extracting: mit-bih-arrhythmia-database-1.0.0/207.xws  \n",
            " extracting: mit-bih-arrhythmia-database-1.0.0/210.hea  \n",
            " extracting: mit-bih-arrhythmia-database-1.0.0/203.xws  \n",
            " extracting: mit-bih-arrhythmia-database-1.0.0/200.dat  \n",
            " extracting: mit-bih-arrhythmia-database-1.0.0/215.dat  \n",
            " extracting: mit-bih-arrhythmia-database-1.0.0/217.atr  \n",
            " extracting: mit-bih-arrhythmia-database-1.0.0/200.xws  \n",
            " extracting: mit-bih-arrhythmia-database-1.0.0/115.atr  \n",
            " extracting: mit-bih-arrhythmia-database-1.0.0/205.atr  \n",
            " extracting: mit-bih-arrhythmia-database-1.0.0/205.dat  \n",
            " extracting: mit-bih-arrhythmia-database-1.0.0/123.xws  \n",
            " extracting: mit-bih-arrhythmia-database-1.0.0/208.dat  \n",
            " extracting: mit-bih-arrhythmia-database-1.0.0/230.dat  \n",
            " extracting: mit-bih-arrhythmia-database-1.0.0/101.xws  \n",
            " extracting: mit-bih-arrhythmia-database-1.0.0/100.atr  \n",
            " extracting: mit-bih-arrhythmia-database-1.0.0/108.at_  \n",
            " extracting: mit-bih-arrhythmia-database-1.0.0/105.hea  \n",
            " extracting: mit-bih-arrhythmia-database-1.0.0/105.xws  \n",
            " extracting: mit-bih-arrhythmia-database-1.0.0/203.at_  \n",
            " extracting: mit-bih-arrhythmia-database-1.0.0/212.xws  \n",
            " extracting: mit-bih-arrhythmia-database-1.0.0/209.dat  \n",
            " extracting: mit-bih-arrhythmia-database-1.0.0/232.xws  \n",
            " extracting: mit-bih-arrhythmia-database-1.0.0/215.hea  \n",
            " extracting: mit-bih-arrhythmia-database-1.0.0/108.dat  \n",
            " extracting: mit-bih-arrhythmia-database-1.0.0/115.dat  \n",
            " extracting: mit-bih-arrhythmia-database-1.0.0/107.atr  \n",
            " extracting: mit-bih-arrhythmia-database-1.0.0/200.hea  \n",
            " extracting: mit-bih-arrhythmia-database-1.0.0/232.hea  \n",
            " extracting: mit-bih-arrhythmia-database-1.0.0/217.xws  \n",
            " extracting: mit-bih-arrhythmia-database-1.0.0/209.atr  \n",
            " extracting: mit-bih-arrhythmia-database-1.0.0/113.hea  \n",
            " extracting: mit-bih-arrhythmia-database-1.0.0/114.atr  \n",
            " extracting: mit-bih-arrhythmia-database-1.0.0/210.xws  \n",
            " extracting: mit-bih-arrhythmia-database-1.0.0/213.dat  \n",
            " extracting: mit-bih-arrhythmia-database-1.0.0/208.hea  \n",
            " extracting: mit-bih-arrhythmia-database-1.0.0/228.atr  \n",
            " extracting: mit-bih-arrhythmia-database-1.0.0/122.atr  \n",
            " extracting: mit-bih-arrhythmia-database-1.0.0/232.dat  \n",
            " extracting: mit-bih-arrhythmia-database-1.0.0/223.hea  \n",
            " extracting: mit-bih-arrhythmia-database-1.0.0/210.atr  \n",
            " extracting: mit-bih-arrhythmia-database-1.0.0/214.hea  \n",
            " extracting: mit-bih-arrhythmia-database-1.0.0/124.xws  \n",
            " extracting: mit-bih-arrhythmia-database-1.0.0/214.dat  \n",
            " extracting: mit-bih-arrhythmia-database-1.0.0/209.xws  \n",
            " extracting: mit-bih-arrhythmia-database-1.0.0/111.hea  \n",
            " extracting: mit-bih-arrhythmia-database-1.0.0/x_mitdb/x_124.dat  \n",
            " extracting: mit-bih-arrhythmia-database-1.0.0/x_mitdb/x_222.atr  \n",
            " extracting: mit-bih-arrhythmia-database-1.0.0/x_mitdb/x_123.dat  \n",
            " extracting: mit-bih-arrhythmia-database-1.0.0/x_mitdb/x_112.atr  \n",
            " extracting: mit-bih-arrhythmia-database-1.0.0/x_mitdb/x_231.hea  \n",
            " extracting: mit-bih-arrhythmia-database-1.0.0/x_mitdb/x_230.dat  \n",
            " extracting: mit-bih-arrhythmia-database-1.0.0/x_mitdb/x_222.hea  \n",
            " extracting: mit-bih-arrhythmia-database-1.0.0/x_mitdb/x_115.atr  \n",
            " extracting: mit-bih-arrhythmia-database-1.0.0/x_mitdb/RECORDS  \n",
            " extracting: mit-bih-arrhythmia-database-1.0.0/x_mitdb/x_221.hea  \n",
            " extracting: mit-bih-arrhythmia-database-1.0.0/x_mitdb/x_109.atr  \n",
            " extracting: mit-bih-arrhythmia-database-1.0.0/x_mitdb/x_122.atr  \n",
            " extracting: mit-bih-arrhythmia-database-1.0.0/x_mitdb/x_112.hea  \n",
            " extracting: mit-bih-arrhythmia-database-1.0.0/x_mitdb/x_233.atr  \n",
            " extracting: mit-bih-arrhythmia-database-1.0.0/x_mitdb/x_117.atr  \n",
            " extracting: mit-bih-arrhythmia-database-1.0.0/x_mitdb/x_221.dat  \n",
            " extracting: mit-bih-arrhythmia-database-1.0.0/x_mitdb/x_228.atr  \n",
            " extracting: mit-bih-arrhythmia-database-1.0.0/x_mitdb/x_121.hea  \n",
            " extracting: mit-bih-arrhythmia-database-1.0.0/x_mitdb/x_223.atr  \n",
            " extracting: mit-bih-arrhythmia-database-1.0.0/x_mitdb/x_221.atr  \n",
            " extracting: mit-bih-arrhythmia-database-1.0.0/x_mitdb/x_117.dat  \n",
            " extracting: mit-bih-arrhythmia-database-1.0.0/x_mitdb/x_232.atr  \n",
            " extracting: mit-bih-arrhythmia-database-1.0.0/x_mitdb/x_111.hea  \n",
            " extracting: mit-bih-arrhythmia-database-1.0.0/x_mitdb/x_116.hea  \n",
            " extracting: mit-bih-arrhythmia-database-1.0.0/x_mitdb/x_220.dat  \n",
            " extracting: mit-bih-arrhythmia-database-1.0.0/x_mitdb/x_108.hea  \n",
            " extracting: mit-bih-arrhythmia-database-1.0.0/x_mitdb/x_234.hea  \n",
            " extracting: mit-bih-arrhythmia-database-1.0.0/x_mitdb/x_114.atr  \n",
            " extracting: mit-bih-arrhythmia-database-1.0.0/x_mitdb/x_115.hea  \n",
            " extracting: mit-bih-arrhythmia-database-1.0.0/x_mitdb/ANNOTATORS  \n",
            " extracting: mit-bih-arrhythmia-database-1.0.0/x_mitdb/x_233.hea  \n",
            " extracting: mit-bih-arrhythmia-database-1.0.0/x_mitdb/x_116.dat  \n",
            " extracting: mit-bih-arrhythmia-database-1.0.0/x_mitdb/x_114.dat  \n",
            " extracting: mit-bih-arrhythmia-database-1.0.0/x_mitdb/x_234.dat  \n",
            " extracting: mit-bih-arrhythmia-database-1.0.0/x_mitdb/x_228.dat  \n",
            " extracting: mit-bih-arrhythmia-database-1.0.0/x_mitdb/x_111.dat  \n",
            " extracting: mit-bih-arrhythmia-database-1.0.0/x_mitdb/x_109.hea  \n",
            " extracting: mit-bih-arrhythmia-database-1.0.0/x_mitdb/x_230.hea  \n",
            " extracting: mit-bih-arrhythmia-database-1.0.0/x_mitdb/x_220.hea  \n",
            " extracting: mit-bih-arrhythmia-database-1.0.0/x_mitdb/x_232.dat  \n",
            " extracting: mit-bih-arrhythmia-database-1.0.0/x_mitdb/x_122.dat  \n",
            " extracting: mit-bih-arrhythmia-database-1.0.0/x_mitdb/x_231.dat  \n",
            " extracting: mit-bih-arrhythmia-database-1.0.0/x_mitdb/x_123.hea  \n",
            " extracting: mit-bih-arrhythmia-database-1.0.0/x_mitdb/x_123.atr  \n",
            " extracting: mit-bih-arrhythmia-database-1.0.0/x_mitdb/x_233.dat  \n",
            " extracting: mit-bih-arrhythmia-database-1.0.0/x_mitdb/x_230.atr  \n",
            " extracting: mit-bih-arrhythmia-database-1.0.0/x_mitdb/x_228.hea  \n",
            " extracting: mit-bih-arrhythmia-database-1.0.0/x_mitdb/x_108.atr  \n",
            " extracting: mit-bih-arrhythmia-database-1.0.0/x_mitdb/x_114.hea  \n",
            " extracting: mit-bih-arrhythmia-database-1.0.0/x_mitdb/x_124.atr  \n",
            " extracting: mit-bih-arrhythmia-database-1.0.0/x_mitdb/x_113.atr  \n",
            " extracting: mit-bih-arrhythmia-database-1.0.0/x_mitdb/x_116.atr  \n",
            " extracting: mit-bih-arrhythmia-database-1.0.0/x_mitdb/x_121.atr  \n",
            " extracting: mit-bih-arrhythmia-database-1.0.0/x_mitdb/x_111.atr  \n",
            " extracting: mit-bih-arrhythmia-database-1.0.0/x_mitdb/x_115.dat  \n",
            " extracting: mit-bih-arrhythmia-database-1.0.0/x_mitdb/x_109.dat  \n",
            " extracting: mit-bih-arrhythmia-database-1.0.0/x_mitdb/x_231.atr  \n",
            " extracting: mit-bih-arrhythmia-database-1.0.0/x_mitdb/x_113.dat  \n",
            " extracting: mit-bih-arrhythmia-database-1.0.0/x_mitdb/x_108.dat  \n",
            " extracting: mit-bih-arrhythmia-database-1.0.0/x_mitdb/x_124.hea  \n",
            " extracting: mit-bih-arrhythmia-database-1.0.0/x_mitdb/x_220.atr  \n",
            " extracting: mit-bih-arrhythmia-database-1.0.0/x_mitdb/x_232.hea  \n",
            " extracting: mit-bih-arrhythmia-database-1.0.0/x_mitdb/x_223.hea  \n",
            " extracting: mit-bih-arrhythmia-database-1.0.0/x_mitdb/x_113.hea  \n",
            " extracting: mit-bih-arrhythmia-database-1.0.0/x_mitdb/x_222.dat  \n",
            " extracting: mit-bih-arrhythmia-database-1.0.0/x_mitdb/x_117.hea  \n",
            " extracting: mit-bih-arrhythmia-database-1.0.0/x_mitdb/x_234.atr  \n",
            " extracting: mit-bih-arrhythmia-database-1.0.0/x_mitdb/x_223.dat  \n",
            " extracting: mit-bih-arrhythmia-database-1.0.0/x_mitdb/x_121.dat  \n",
            " extracting: mit-bih-arrhythmia-database-1.0.0/x_mitdb/x_122.hea  \n",
            " extracting: mit-bih-arrhythmia-database-1.0.0/x_mitdb/x_112.dat  \n",
            "Requirement already satisfied: wfdb in /usr/local/lib/python3.6/dist-packages (2.2.1)\n",
            "Requirement already satisfied: sklearn>=0.0 in /usr/local/lib/python3.6/dist-packages (from wfdb) (0.0)\n",
            "Requirement already satisfied: matplotlib>=1.5.1 in /usr/local/lib/python3.6/dist-packages (from wfdb) (3.0.3)\n",
            "Requirement already satisfied: pandas>=0.19.1 in /usr/local/lib/python3.6/dist-packages (from wfdb) (0.24.2)\n",
            "Requirement already satisfied: requests>=2.10.0 in /usr/local/lib/python3.6/dist-packages (from wfdb) (2.21.0)\n",
            "Requirement already satisfied: scipy>=0.19.0 in /usr/local/lib/python3.6/dist-packages (from wfdb) (1.3.0)\n",
            "Requirement already satisfied: numpy>=1.11.0 in /usr/local/lib/python3.6/dist-packages (from wfdb) (1.16.4)\n",
            "Requirement already satisfied: nose>=1.3.7 in /usr/local/lib/python3.6/dist-packages (from wfdb) (1.3.7)\n",
            "Requirement already satisfied: scikit-learn in /usr/local/lib/python3.6/dist-packages (from sklearn>=0.0->wfdb) (0.21.3)\n",
            "Requirement already satisfied: cycler>=0.10 in /usr/local/lib/python3.6/dist-packages (from matplotlib>=1.5.1->wfdb) (0.10.0)\n",
            "Requirement already satisfied: pyparsing!=2.0.4,!=2.1.2,!=2.1.6,>=2.0.1 in /usr/local/lib/python3.6/dist-packages (from matplotlib>=1.5.1->wfdb) (2.4.2)\n",
            "Requirement already satisfied: python-dateutil>=2.1 in /usr/local/lib/python3.6/dist-packages (from matplotlib>=1.5.1->wfdb) (2.5.3)\n",
            "Requirement already satisfied: kiwisolver>=1.0.1 in /usr/local/lib/python3.6/dist-packages (from matplotlib>=1.5.1->wfdb) (1.1.0)\n",
            "Requirement already satisfied: pytz>=2011k in /usr/local/lib/python3.6/dist-packages (from pandas>=0.19.1->wfdb) (2018.9)\n",
            "Requirement already satisfied: certifi>=2017.4.17 in /usr/local/lib/python3.6/dist-packages (from requests>=2.10.0->wfdb) (2019.6.16)\n",
            "Requirement already satisfied: chardet<3.1.0,>=3.0.2 in /usr/local/lib/python3.6/dist-packages (from requests>=2.10.0->wfdb) (3.0.4)\n",
            "Requirement already satisfied: urllib3<1.25,>=1.21.1 in /usr/local/lib/python3.6/dist-packages (from requests>=2.10.0->wfdb) (1.24.3)\n",
            "Requirement already satisfied: idna<2.9,>=2.5 in /usr/local/lib/python3.6/dist-packages (from requests>=2.10.0->wfdb) (2.8)\n",
            "Requirement already satisfied: joblib>=0.11 in /usr/local/lib/python3.6/dist-packages (from scikit-learn->sklearn>=0.0->wfdb) (0.13.2)\n",
            "Requirement already satisfied: six in /usr/local/lib/python3.6/dist-packages (from cycler>=0.10->matplotlib>=1.5.1->wfdb) (1.12.0)\n",
            "Requirement already satisfied: setuptools in /usr/local/lib/python3.6/dist-packages (from kiwisolver>=1.0.1->matplotlib>=1.5.1->wfdb) (41.0.1)\n"
          ],
          "name": "stdout"
        }
      ]
    },
    {
      "cell_type": "code",
      "metadata": {
        "id": "ZFz6QQ68DSyc",
        "colab_type": "code",
        "colab": {}
      },
      "source": [
        "import wfdb\n",
        "import numpy as np\n",
        "import math\n",
        "from wfdb import processing"
      ],
      "execution_count": 0,
      "outputs": []
    },
    {
      "cell_type": "markdown",
      "metadata": {
        "id": "bLX5j2EICoHb",
        "colab_type": "text"
      },
      "source": [
        "#Part 1"
      ]
    },
    {
      "cell_type": "markdown",
      "metadata": {
        "id": "FiiuhiGoDvxM",
        "colab_type": "text"
      },
      "source": [
        "Question 1.1"
      ]
    },
    {
      "cell_type": "code",
      "metadata": {
        "id": "BuhgBy5qD0fP",
        "colab_type": "code",
        "outputId": "bcf8c1bd-30cf-4fab-e646-9d5d6624b2a3",
        "colab": {
          "base_uri": "https://localhost:8080/",
          "height": 295
        }
      },
      "source": [
        "filename='mit-bih-arrhythmia-database-1.0.0/100'\n",
        "\n",
        "record = wfdb.rdrecord(filename,sampto=3000) \n",
        "wfdb.plot_wfdb(record=record, title='Record '+filename) "
      ],
      "execution_count": 0,
      "outputs": [
        {
          "output_type": "display_data",
          "data": {
            "image/png": "[encoded data removed]",
            "text/plain": [
              "<Figure size 432x288 with 2 Axes>"
            ]
          },
          "metadata": {
            "tags": []
          }
        }
      ]
    },
    {
      "cell_type": "markdown",
      "metadata": {
        "id": "QiEjVv1MDw64",
        "colab_type": "text"
      },
      "source": [
        "Question 1.2"
      ]
    },
    {
      "cell_type": "code",
      "metadata": {
        "id": "kbzt2UlVD1WH",
        "colab_type": "code",
        "outputId": "afb0f0f2-eccb-4607-d332-523ec3f66a64",
        "colab": {
          "base_uri": "https://localhost:8080/",
          "height": 351
        }
      },
      "source": [
        "sig, fields = wfdb.rdsamp(filename, channels=[0],sampto=3000)\n",
        "xqrs = processing.XQRS(sig=sig[:,0], fs=fields['fs'])\n",
        "xqrs.detect()\n",
        "wfdb.plot_items(signal=sig, ann_samp=[xqrs.qrs_inds])"
      ],
      "execution_count": 0,
      "outputs": [
        {
          "output_type": "stream",
          "text": [
            "Learning initial signal parameters...\n",
            "Found 8 beats during learning. Initializing using learned parameters\n",
            "Running QRS detection...\n",
            "QRS detection complete.\n"
          ],
          "name": "stdout"
        },
        {
          "output_type": "display_data",
          "data": {
            "image/png": "[encoded data removed]",
            "text/plain": [
              "<Figure size 432x288 with 1 Axes>"
            ]
          },
          "metadata": {
            "tags": []
          }
        }
      ]
    },
    {
      "cell_type": "code",
      "metadata": {
        "id": "Fe5KNhmTol9N",
        "colab_type": "code",
        "outputId": "e24efa7e-c271-4e91-a5b7-71646dd54e8d",
        "colab": {
          "base_uri": "https://localhost:8080/",
          "height": 368
        }
      },
      "source": [
        "sig, fields = wfdb.rdsamp(filename, channels=[0])\n",
        "xqrs = processing.XQRS(sig=sig[:,0], fs=fields['fs'])\n",
        "xqrs.detect()\n",
        "wfdb.plot_items(signal=sig, ann_samp=[xqrs.qrs_inds])\n",
        "len(xqrs.qrs_inds)"
      ],
      "execution_count": 0,
      "outputs": [
        {
          "output_type": "stream",
          "text": [
            "Learning initial signal parameters...\n",
            "Found 8 beats during learning. Initializing using learned parameters\n",
            "Running QRS detection...\n",
            "QRS detection complete.\n"
          ],
          "name": "stdout"
        },
        {
          "output_type": "display_data",
          "data": {
            "image/png": "[encoded data removed]",
            "text/plain": [
              "<Figure size 432x288 with 1 Axes>"
            ]
          },
          "metadata": {
            "tags": []
          }
        },
        {
          "output_type": "execute_result",
          "data": {
            "text/plain": [
              "2273"
            ]
          },
          "metadata": {
            "tags": []
          },
          "execution_count": 37
        }
      ]
    },
    {
      "cell_type": "markdown",
      "metadata": {
        "id": "uu9fC4KbDx-8",
        "colab_type": "text"
      },
      "source": [
        "Question 1.3"
      ]
    },
    {
      "cell_type": "code",
      "metadata": {
        "id": "_1XfTI09z_R_",
        "colab_type": "code",
        "colab": {}
      },
      "source": [
        "def find_QRS_duration(values, index):\n",
        "  # you need to change and complete this function's code\n",
        "  i = index\n",
        "  j = index\n",
        "  left_found = False\n",
        "  right_found = False\n",
        "  \n",
        "  if index in [0, -1]:\n",
        "    result = 0\n",
        "    \n",
        "  else:\n",
        "    while i in range(index, 0, -1) and not left_found:\n",
        "      if values[i] <= values[i-1]:\n",
        "        left_idx = i - 1\n",
        "        left_found = True\n",
        "      else:\n",
        "        i -= 1    \n",
        "    while j in range(index, len(values) - 1, 1) and not right_found:\n",
        "      if values[j] <= values[j+1]:\n",
        "        right_idx = j + 1\n",
        "        right_found = True\n",
        "      else:\n",
        "        j += 1\n",
        "    if (not right_found) or (not left_found):\n",
        "      result = 0\n",
        "    else:\n",
        "      result = right_idx - left_idx\n",
        "      \n",
        "  return result\n",
        "\n",
        "\n",
        "test1 = np.array([3,1,1,-1,-2,-1,4,3,2,1,0,0,0,1,2,3,4])\n",
        "assert find_QRS_duration(test1, 6) == 8\n",
        "\n",
        "test2 = np.array([3,1,4,-3,7])\n",
        "assert find_QRS_duration(test2, 2) == 4"
      ],
      "execution_count": 0,
      "outputs": []
    },
    {
      "cell_type": "markdown",
      "metadata": {
        "id": "_DeaJfALDy-f",
        "colab_type": "text"
      },
      "source": [
        "Question 1.4"
      ]
    },
    {
      "cell_type": "code",
      "metadata": {
        "id": "BDjSo22A3CCS",
        "colab_type": "code",
        "colab": {}
      },
      "source": [
        "def find_average_QRS_duration(filename):\n",
        "  # you need to change and complete this function's code\n",
        "  sig, fields = wfdb.rdsamp(filename, channels=[0])\n",
        "  xqrs = processing.XQRS(sig=sig[:,0], fs=fields['fs'])\n",
        "  xqrs.detect()\n",
        "  sum_duration = 0\n",
        "  num_qrs = 0\n",
        "  for peak in xqrs.qrs_inds:\n",
        "    if find_QRS_duration(sig[:,0], peak) != 0:\n",
        "      sum_duration += find_QRS_duration(sig[:, 0], peak)\n",
        "      num_qrs += 1\n",
        "    else:\n",
        "      sum_duration += 0\n",
        "      num_qrs += 0\n",
        "  result = sum_duration / num_qrs\n",
        "  return result\n",
        "  print(sum_duration)\n",
        "  print(num_qrs)\n",
        "  print(result)"
      ],
      "execution_count": 0,
      "outputs": []
    },
    {
      "cell_type": "code",
      "metadata": {
        "id": "QMxqlGbKcmzu",
        "colab_type": "code",
        "outputId": "91551a12-e250-4145-b41d-6edc709efab6",
        "colab": {
          "base_uri": "https://localhost:8080/",
          "height": 102
        }
      },
      "source": [
        "find_average_QRS_duration('mit-bih-arrhythmia-database-1.0.0/100')"
      ],
      "execution_count": 6,
      "outputs": [
        {
          "output_type": "stream",
          "text": [
            "Learning initial signal parameters...\n",
            "Found 8 beats during learning. Initializing using learned parameters\n",
            "Running QRS detection...\n",
            "QRS detection complete.\n"
          ],
          "name": "stdout"
        },
        {
          "output_type": "execute_result",
          "data": {
            "text/plain": [
              "13.261883802816902"
            ]
          },
          "metadata": {
            "tags": []
          },
          "execution_count": 6
        }
      ]
    },
    {
      "cell_type": "code",
      "metadata": {
        "id": "q3owAakTcnmP",
        "colab_type": "code",
        "outputId": "f814d196-802f-45b4-d5f4-160e0c0e0be0",
        "colab": {
          "base_uri": "https://localhost:8080/",
          "height": 102
        }
      },
      "source": [
        "find_average_QRS_duration('mit-bih-arrhythmia-database-1.0.0/101')"
      ],
      "execution_count": 7,
      "outputs": [
        {
          "output_type": "stream",
          "text": [
            "Learning initial signal parameters...\n",
            "Found 8 beats during learning. Initializing using learned parameters\n",
            "Running QRS detection...\n",
            "QRS detection complete.\n"
          ],
          "name": "stdout"
        },
        {
          "output_type": "execute_result",
          "data": {
            "text/plain": [
              "23.484475374732334"
            ]
          },
          "metadata": {
            "tags": []
          },
          "execution_count": 7
        }
      ]
    },
    {
      "cell_type": "code",
      "metadata": {
        "id": "vnnp9Kbzcr2x",
        "colab_type": "code",
        "outputId": "3831fd30-ac4e-4448-9cc9-7ace297455d6",
        "colab": {
          "base_uri": "https://localhost:8080/",
          "height": 102
        }
      },
      "source": [
        "find_average_QRS_duration('mit-bih-arrhythmia-database-1.0.0/102')"
      ],
      "execution_count": 8,
      "outputs": [
        {
          "output_type": "stream",
          "text": [
            "Learning initial signal parameters...\n",
            "Found 8 beats during learning. Initializing using learned parameters\n",
            "Running QRS detection...\n",
            "QRS detection complete.\n"
          ],
          "name": "stdout"
        },
        {
          "output_type": "execute_result",
          "data": {
            "text/plain": [
              "11.96936442615455"
            ]
          },
          "metadata": {
            "tags": []
          },
          "execution_count": 8
        }
      ]
    },
    {
      "cell_type": "code",
      "metadata": {
        "id": "pZlAGCGZEV4e",
        "colab_type": "code",
        "outputId": "1a98099c-828e-4c6e-c942-c8a6f3cb3cb6",
        "colab": {
          "base_uri": "https://localhost:8080/",
          "height": 221
        }
      },
      "source": [
        "def find_average_QRS_duration(filename):\n",
        "  # you need to change and complete this function's code\n",
        "  sig, fields = wfdb.rdsamp(filename, channels=[0])\n",
        "  xqrs = processing.XQRS(sig=sig[:,0], fs=fields['fs'])\n",
        "  xqrs.detect()\n",
        "  sum_duration = 0\n",
        "  num_qrs = 0\n",
        "  for peak in xqrs.qrs_inds:\n",
        "    if find_QRS_duration(sig[:,0], peak) != 0:\n",
        "      sum_duration += find_QRS_duration(sig[:, 0], peak)\n",
        "      num_qrs += 1\n",
        "    else:\n",
        "      sum_duration += 0\n",
        "      num_qrs += 0\n",
        "  result = sum_duration / num_qrs\n",
        "  return result\n",
        "\n",
        "assert math.isclose(find_average_QRS_duration('mit-bih-arrhythmia-database-1.0.0/100'), 13.260008798944126, rel_tol=1e-03)\n",
        "assert math.isclose(find_average_QRS_duration('mit-bih-arrhythmia-database-1.0.0/101'), 23.484475374732334)\n",
        "assert math.isclose(find_average_QRS_duration('mit-bih-arrhythmia-database-1.0.0/102'), 11.96936442615455)"
      ],
      "execution_count": 0,
      "outputs": [
        {
          "output_type": "stream",
          "text": [
            "Learning initial signal parameters...\n",
            "Found 8 beats during learning. Initializing using learned parameters\n",
            "Running QRS detection...\n",
            "QRS detection complete.\n",
            "Learning initial signal parameters...\n",
            "Found 8 beats during learning. Initializing using learned parameters\n",
            "Running QRS detection...\n",
            "QRS detection complete.\n",
            "Learning initial signal parameters...\n",
            "Found 8 beats during learning. Initializing using learned parameters\n",
            "Running QRS detection...\n",
            "QRS detection complete.\n"
          ],
          "name": "stdout"
        }
      ]
    },
    {
      "cell_type": "markdown",
      "metadata": {
        "id": "3hELgFNKCmL7",
        "colab_type": "text"
      },
      "source": [
        "#Part 2"
      ]
    },
    {
      "cell_type": "markdown",
      "metadata": {
        "id": "PrQ3g6QNEyyO",
        "colab_type": "text"
      },
      "source": [
        "##Step 1: Load the data"
      ]
    },
    {
      "cell_type": "code",
      "metadata": {
        "id": "EP1S_Rb49zrx",
        "colab_type": "code",
        "outputId": "d1f9236b-8f48-4230-cbcb-474ef625e15e",
        "colab": {
          "base_uri": "https://localhost:8080/",
          "height": 357
        }
      },
      "source": [
        "import numpy as np\n",
        "import pandas as pd\n",
        "names = ['Age','Sex','Height','Weight','QRS dur',\n",
        "          'P-R int','Q-T int','T int','P int',\n",
        "          'QRS','T','P','QRST','J','Heart rate']\n",
        "df = pd.read_csv('arrythmia.csv',header=None)\n",
        "\n",
        "originalclass = df[279]\n",
        "arrythmia = originalclass != 1\n",
        "df.drop(columns=[279],inplace=True)\n",
        "\n",
        "# assign the first columns to names\n",
        "df.rename(columns=dict(enumerate(names)),inplace=True)\n",
        "df.rename(columns=dict(zip(range(15,279),range(16,280))),inplace=True)\n",
        "\n",
        "# df is the data, originalclass and arrythmia are the targets\n",
        "print(df.head())\n",
        "print(arrythmia.head())\n",
        "print(originalclass.head())\n"
      ],
      "execution_count": 0,
      "outputs": [
        {
          "output_type": "stream",
          "text": [
            "   Age  Sex  Height  Weight  QRS dur  P-R int  ...  274  275  276  277   278   279\n",
            "0   49    1     162      54       78        0  ...  0.0    0  0.1  0.5  15.8  19.8\n",
            "1   66    1     160      70       76      160  ...  0.0    0 -0.4  1.7  28.1  44.0\n",
            "2   50    1     174      90       81      105  ...  0.0    0 -0.3  1.6   3.5  18.5\n",
            "3   29    0     172      69       93      129  ...  0.0    0  0.3  1.7  20.4  30.6\n",
            "4   64    0     170      70       94      162  ...  0.0    0  1.2 -1.9  14.3  -6.2\n",
            "\n",
            "[5 rows x 279 columns]\n",
            "0    False\n",
            "1     True\n",
            "2    False\n",
            "3     True\n",
            "4     True\n",
            "Name: 279, dtype: bool\n",
            "0     1\n",
            "1    16\n",
            "2     1\n",
            "3     6\n",
            "4     2\n",
            "Name: 279, dtype: int64\n"
          ],
          "name": "stdout"
        }
      ]
    },
    {
      "cell_type": "markdown",
      "metadata": {
        "id": "6MnF0qCeoLRi",
        "colab_type": "text"
      },
      "source": [
        "### load a few metrics"
      ]
    },
    {
      "cell_type": "code",
      "metadata": {
        "id": "ijqQR-TyVTd8",
        "colab_type": "code",
        "colab": {}
      },
      "source": [
        "import numpy as np\n",
        "import pandas as pd\n",
        "from scipy import interp\n",
        "from sklearn.linear_model import LogisticRegression\n",
        "from sklearn import metrics, neighbors, svm, calibration, tree, ensemble, model_selection\n",
        "from sklearn.model_selection import StratifiedKFold\n",
        "from sklearn.metrics import roc_curve, auc\n",
        "import matplotlib.pyplot as plt\n",
        "\n",
        "#not great but suppressess warning messages :)\n",
        "import warnings\n",
        "warnings.filterwarnings(\"ignore\")\n",
        "\n",
        "def test_model(model, X, y, show_plot=True):\n",
        "  cv = StratifiedKFold(n_splits=5)\n",
        "\n",
        "  tprs = []\n",
        "  aucs = []\n",
        "  mean_fpr = np.linspace(0, 1, 100)\n",
        "\n",
        "  print(\"score \" + str(model_selection.cross_val_score(model, X, y, scoring='accuracy')))\n",
        "  \n",
        "  i = 0\n",
        "  for train, test in cv.split(X, y):\n",
        "      probas_ = model.fit(X[train], y[train]).predict_proba(X[test])\n",
        "      \n",
        "      # Compute ROC curve and area the curve\n",
        "      fpr, tpr, thresholds = roc_curve(y[test], probas_[:, 1])\n",
        "      tprs.append(interp(mean_fpr, fpr, tpr))\n",
        "      tprs[-1][0] = 0.0\n",
        "      roc_auc = auc(fpr, tpr)\n",
        "      aucs.append(roc_auc)\n",
        "      if show_plot:\n",
        "        plt.plot(fpr, tpr, lw=1, alpha=0.3,\n",
        "                 label='ROC fold %d (AUC = %0.2f)' % (i, roc_auc))\n",
        "\n",
        "\n",
        "      i += 1\n",
        "\n",
        "  mean_tpr = np.mean(tprs, axis=0)\n",
        "  mean_tpr[-1] = 1.0\n",
        "  mean_auc = auc(mean_fpr, mean_tpr)\n",
        "  std_auc = np.std(aucs)\n",
        "\n",
        "  std_tpr = np.std(tprs, axis=0)\n",
        "  tprs_upper = np.minimum(mean_tpr + std_tpr, 1)\n",
        "  tprs_lower = np.maximum(mean_tpr - std_tpr, 0)\n",
        "\n",
        "  if show_plot:\n",
        "    plt.plot([0, 1], [0, 1], linestyle='--', lw=2, color='r',\n",
        "             label='Luck', alpha=.8)\n",
        "    plt.plot(mean_fpr, mean_tpr, color='b',\n",
        "             label=r'Mean ROC (AUC = %0.2f $\\pm$ %0.2f)' % (mean_auc, std_auc),\n",
        "             lw=2, alpha=.8)\n",
        "    plt.fill_between(mean_fpr, tprs_lower, tprs_upper, color='grey', alpha=.2,\n",
        "                     label=r'$\\pm$ 1 std. dev.')\n",
        "\n",
        "    plt.xlim([-0.05, 1.05])\n",
        "    plt.ylim([-0.05, 1.05])\n",
        "    plt.xlabel('False Positive Rate')\n",
        "    plt.ylabel('True Positive Rate')\n",
        "    plt.title('Receiver operating characteristic example')\n",
        "    plt.legend(loc=\"lower right\")\n",
        "    plt.show()\n",
        "  \n",
        "  print('Mean ROC (AUC = %0.8f +- %0.8f)' % (mean_auc, std_auc))\n",
        "  \n",
        "from sklearn.metrics import f1_score\n",
        "\n",
        "def test_model_multi(model, X, y):\n",
        "  cv = StratifiedKFold(n_splits=3)\n",
        "\n",
        "  scores = np.zeros(3)\n",
        "  i = 0\n",
        "  for train, test in cv.split(X, y):\n",
        "      yp = model.fit(X[train], y[train]).predict(X[test])\n",
        "      scores[i] = f1_score(y[test], yp, average='weighted')\n",
        "      i += 1\n",
        "  print(\"avg f1-score=%0.2f\" % np.mean(scores))"
      ],
      "execution_count": 0,
      "outputs": []
    },
    {
      "cell_type": "markdown",
      "metadata": {
        "id": "DoTmudsDoQL8",
        "colab_type": "text"
      },
      "source": [
        "##Step 2: Change this to get better performance for binary classification"
      ]
    },
    {
      "cell_type": "code",
      "metadata": {
        "id": "bOtuWQ4RPUjf",
        "colab_type": "code",
        "outputId": "fe4b6fb5-7735-4526-be96-2d4aef2ba520",
        "colab": {
          "base_uri": "https://localhost:8080/",
          "height": 329
        }
      },
      "source": [
        "from sklearn.linear_model import LogisticRegression\n",
        "\n",
        "logi_model = LogisticRegression()\n",
        "\n",
        "test_model(logi_model, df.values, arrythmia.values)"
      ],
      "execution_count": 0,
      "outputs": [
        {
          "output_type": "stream",
          "text": [
            "score [0.68211921 0.65562914 0.72666667]\n"
          ],
          "name": "stdout"
        },
        {
          "output_type": "display_data",
          "data": {
            "image/png": "[encoded data removed]",
            "text/plain": [
              "<Figure size 432x288 with 1 Axes>"
            ]
          },
          "metadata": {
            "tags": []
          }
        },
        {
          "output_type": "stream",
          "text": [
            "Mean ROC (AUC = 0.72833914 +- 0.03933141)\n"
          ],
          "name": "stdout"
        }
      ]
    },
    {
      "cell_type": "markdown",
      "metadata": {
        "id": "cCcV9tM_gn2K",
        "colab_type": "text"
      },
      "source": [
        "### Feature selection"
      ]
    },
    {
      "cell_type": "code",
      "metadata": {
        "id": "VGizo0V7grlD",
        "colab_type": "code",
        "outputId": "c500bae3-0a3f-4d4d-f21d-f6d427b03b8e",
        "colab": {
          "base_uri": "https://localhost:8080/",
          "height": 1000
        }
      },
      "source": [
        "from sklearn.preprocessing import StandardScaler\n",
        "from sklearn.decomposition import PCA\n",
        "\n",
        "feature_names = df.columns.values\n",
        "for i in range(len(feature_names), 1, -1):\n",
        "  #PCA is effected by scale so we scale the features to a unit vector\n",
        "  data_scaled = StandardScaler().fit_transform(df.values)\n",
        "  \n",
        "  pca = PCA(n_components=i-1)\n",
        "  principalComponents = pca.fit_transform(data_scaled)\n",
        "  print(\"PCA %d \" % (i-1), end='')\n",
        "  test_model(LogisticRegression(), principalComponents, arrythmia.values, False)\n",
        "  \n",
        "  # PCA to choose features"
      ],
      "execution_count": 0,
      "outputs": [
        {
          "output_type": "stream",
          "text": [
            "PCA 278 score [0.70860927 0.64900662 0.71333333]\n",
            "Mean ROC (AUC = 0.76075388 +- 0.04120770)\n",
            "PCA 277 score [0.70860927 0.64900662 0.71333333]\n",
            "Mean ROC (AUC = 0.76075388 +- 0.04120770)\n",
            "PCA 276 score [0.70860927 0.64900662 0.71333333]\n",
            "Mean ROC (AUC = 0.76075388 +- 0.04120770)\n",
            "PCA 275 score [0.70860927 0.64900662 0.71333333]\n",
            "Mean ROC (AUC = 0.76075388 +- 0.04120770)\n",
            "PCA 274 score [0.70860927 0.64900662 0.71333333]\n",
            "Mean ROC (AUC = 0.76075388 +- 0.04120770)\n",
            "PCA 273 score [0.70860927 0.64900662 0.71333333]\n",
            "Mean ROC (AUC = 0.76075388 +- 0.04120770)\n",
            "PCA 272 score [0.70860927 0.64900662 0.71333333]\n",
            "Mean ROC (AUC = 0.76075388 +- 0.04120770)\n",
            "PCA 271 score [0.70860927 0.64900662 0.71333333]\n",
            "Mean ROC (AUC = 0.76065533 +- 0.04136145)\n",
            "PCA 270 score [0.70860927 0.64900662 0.71333333]\n",
            "Mean ROC (AUC = 0.76075388 +- 0.04120770)\n",
            "PCA 269 score [0.70860927 0.64900662 0.71333333]\n",
            "Mean ROC (AUC = 0.76075388 +- 0.04120770)\n",
            "PCA 268 score [0.70860927 0.64900662 0.71333333]\n",
            "Mean ROC (AUC = 0.76075388 +- 0.04120770)\n",
            "PCA 267 score [0.70860927 0.64900662 0.71333333]\n",
            "Mean ROC (AUC = 0.76075388 +- 0.04120770)\n",
            "PCA 266 score [0.70860927 0.64900662 0.71333333]\n",
            "Mean ROC (AUC = 0.76075388 +- 0.04120770)\n",
            "PCA 265 score [0.70860927 0.64900662 0.71333333]\n",
            "Mean ROC (AUC = 0.76075388 +- 0.04120770)\n",
            "PCA 264 score [0.70860927 0.64900662 0.71333333]\n",
            "Mean ROC (AUC = 0.76075388 +- 0.04120770)\n",
            "PCA 263 score [0.70860927 0.64900662 0.71333333]\n",
            "Mean ROC (AUC = 0.76075388 +- 0.04120770)\n",
            "PCA 262 score [0.70860927 0.64900662 0.71333333]\n",
            "Mean ROC (AUC = 0.76075388 +- 0.04120770)\n",
            "PCA 261 score [0.70860927 0.64900662 0.71333333]\n",
            "Mean ROC (AUC = 0.76075388 +- 0.04120770)\n",
            "PCA 260 score [0.70860927 0.64900662 0.71333333]\n",
            "Mean ROC (AUC = 0.76075388 +- 0.04120770)\n",
            "PCA 259 score [0.70860927 0.64900662 0.71333333]\n",
            "Mean ROC (AUC = 0.76075388 +- 0.04120770)\n",
            "PCA 258 score [0.70860927 0.64900662 0.71333333]\n",
            "Mean ROC (AUC = 0.76075388 +- 0.04120770)\n",
            "PCA 257 score [0.70860927 0.64900662 0.71333333]\n",
            "Mean ROC (AUC = 0.76075388 +- 0.04120770)\n",
            "PCA 256 score [0.70860927 0.64900662 0.71333333]\n",
            "Mean ROC (AUC = 0.76055679 +- 0.04141162)\n",
            "PCA 255 score [0.70860927 0.64900662 0.71333333]\n",
            "Mean ROC (AUC = 0.76065768 +- 0.04111650)\n",
            "PCA 254 score [0.70860927 0.64900662 0.71333333]\n",
            "Mean ROC (AUC = 0.76065768 +- 0.04111650)\n",
            "PCA 253 score [0.70860927 0.64900662 0.71333333]\n",
            "Mean ROC (AUC = 0.76046059 +- 0.04121835)\n",
            "PCA 252 score [0.70860927 0.64900662 0.71333333]\n",
            "Mean ROC (AUC = 0.76065768 +- 0.04111650)\n",
            "PCA 251 score [0.70860927 0.64900662 0.71333333]\n",
            "Mean ROC (AUC = 0.76065768 +- 0.04111650)\n",
            "PCA 250 score [0.70860927 0.64900662 0.71333333]\n",
            "Mean ROC (AUC = 0.76065768 +- 0.04111650)\n",
            "PCA 249 score [0.70860927 0.64900662 0.71333333]\n",
            "Mean ROC (AUC = 0.76104952 +- 0.04106133)\n",
            "PCA 248 score [0.70860927 0.64900662 0.71333333]\n",
            "Mean ROC (AUC = 0.76095097 +- 0.04121635)\n",
            "PCA 247 score [0.70860927 0.64900662 0.71333333]\n",
            "Mean ROC (AUC = 0.76124427 +- 0.04111322)\n",
            "PCA 246 score [0.70860927 0.64900662 0.71333333]\n",
            "Mean ROC (AUC = 0.76095097 +- 0.04132561)\n",
            "PCA 245 score [0.70860927 0.64900662 0.71333333]\n",
            "Mean ROC (AUC = 0.76105187 +- 0.04110020)\n",
            "PCA 244 score [0.70860927 0.64900662 0.71333333]\n",
            "Mean ROC (AUC = 0.76154225 +- 0.04106331)\n",
            "PCA 243 score [0.70860927 0.64900662 0.71333333]\n",
            "Mean ROC (AUC = 0.76134516 +- 0.04115516)\n",
            "PCA 242 score [0.70860927 0.64900662 0.71333333]\n",
            "Mean ROC (AUC = 0.76115276 +- 0.04107738)\n",
            "PCA 241 score [0.70860927 0.64900662 0.71333333]\n",
            "Mean ROC (AUC = 0.76134516 +- 0.04125601)\n",
            "PCA 240 score [0.70860927 0.64900662 0.71333333]\n",
            "Mean ROC (AUC = 0.76125131 +- 0.04103138)\n",
            "PCA 239 score [0.70860927 0.64900662 0.71333333]\n",
            "Mean ROC (AUC = 0.76144605 +- 0.04107498)\n",
            "PCA 238 score [0.70860927 0.64238411 0.71333333]\n",
            "Mean ROC (AUC = 0.76144371 +- 0.04104347)\n",
            "PCA 237 score [0.70860927 0.64238411 0.71333333]\n",
            "Mean ROC (AUC = 0.76223208 +- 0.04079983)\n",
            "PCA 236 score [0.70860927 0.64238411 0.71333333]\n",
            "Mean ROC (AUC = 0.76203498 +- 0.04088597)\n",
            "PCA 235 score [0.70860927 0.64238411 0.71333333]\n",
            "Mean ROC (AUC = 0.76193409 +- 0.04112351)\n",
            "PCA 234 score [0.70860927 0.64238411 0.71333333]\n",
            "Mean ROC (AUC = 0.76223208 +- 0.04076360)\n",
            "PCA 233 score [0.70860927 0.64900662 0.71333333]\n",
            "Mean ROC (AUC = 0.76222035 +- 0.04143947)\n",
            "PCA 232 score [0.70860927 0.64900662 0.71333333]\n",
            "Mean ROC (AUC = 0.76231889 +- 0.04184018)\n",
            "PCA 231 score [0.70860927 0.64900662 0.71333333]\n",
            "Mean ROC (AUC = 0.76271542 +- 0.04084661)\n",
            "PCA 230 score [0.70860927 0.64900662 0.71333333]\n",
            "Mean ROC (AUC = 0.76291017 +- 0.04095819)\n",
            "PCA 229 score [0.70860927 0.65562914 0.71333333]\n",
            "Mean ROC (AUC = 0.76320581 +- 0.04081575)\n",
            "PCA 228 score [0.70860927 0.65562914 0.70666667]\n",
            "Mean ROC (AUC = 0.76233766 +- 0.04068155)\n",
            "PCA 227 score [0.70860927 0.65562914 0.7       ]\n",
            "Mean ROC (AUC = 0.76214526 +- 0.04081066)\n",
            "PCA 226 score [0.71523179 0.65562914 0.7       ]\n",
            "Mean ROC (AUC = 0.76243856 +- 0.04085095)\n",
            "PCA 225 score [0.71523179 0.65562914 0.7       ]\n",
            "Mean ROC (AUC = 0.76273654 +- 0.04012784)\n",
            "PCA 224 score [0.70198675 0.65562914 0.70666667]\n",
            "Mean ROC (AUC = 0.76291956 +- 0.04069633)\n",
            "PCA 223 score [0.70860927 0.65562914 0.70666667]\n",
            "Mean ROC (AUC = 0.76263330 +- 0.04042109)\n",
            "PCA 222 score [0.70860927 0.65562914 0.70666667]\n",
            "Mean ROC (AUC = 0.76234001 +- 0.04072888)\n",
            "PCA 221 score [0.70860927 0.65562914 0.70666667]\n",
            "Mean ROC (AUC = 0.76243621 +- 0.04061509)\n",
            "PCA 220 score [0.70198675 0.64900662 0.7       ]\n",
            "Mean ROC (AUC = 0.76254883 +- 0.04006510)\n",
            "PCA 219 score [0.70198675 0.64900662 0.7       ]\n",
            "Mean ROC (AUC = 0.76301810 +- 0.04118816)\n",
            "PCA 218 score [0.70860927 0.64900662 0.7       ]\n",
            "Mean ROC (AUC = 0.76292659 +- 0.04092605)\n",
            "PCA 217 score [0.70860927 0.64900662 0.7       ]\n",
            "Mean ROC (AUC = 0.76312369 +- 0.04042860)\n",
            "PCA 216 score [0.70198675 0.65562914 0.7       ]\n",
            "Mean ROC (AUC = 0.76224850 +- 0.04123600)\n",
            "PCA 215 score [0.70860927 0.65562914 0.7       ]\n",
            "Mean ROC (AUC = 0.76243386 +- 0.04211618)\n",
            "PCA 214 score [0.7218543  0.65562914 0.7       ]\n",
            "Mean ROC (AUC = 0.76322223 +- 0.04115578)\n",
            "PCA 213 score [0.7218543  0.65562914 0.7       ]\n",
            "Mean ROC (AUC = 0.76371027 +- 0.04076400)\n",
            "PCA 212 score [0.7218543  0.65562914 0.7       ]\n",
            "Mean ROC (AUC = 0.76312838 +- 0.04212308)\n",
            "PCA 211 score [0.7218543  0.65562914 0.7       ]\n",
            "Mean ROC (AUC = 0.76272950 +- 0.04245979)\n",
            "PCA 210 score [0.7218543  0.65562914 0.7       ]\n",
            "Mean ROC (AUC = 0.76293598 +- 0.04143282)\n",
            "PCA 209 score [0.7218543  0.65562914 0.7       ]\n",
            "Mean ROC (AUC = 0.76243856 +- 0.04259795)\n",
            "PCA 208 score [0.7218543  0.64900662 0.7       ]\n",
            "Mean ROC (AUC = 0.76263330 +- 0.04205026)\n",
            "PCA 207 score [0.7218543  0.66225166 0.69333333]\n",
            "Mean ROC (AUC = 0.76311430 +- 0.04106653)\n",
            "PCA 206 score [0.7218543  0.66225166 0.7       ]\n",
            "Mean ROC (AUC = 0.76350380 +- 0.04058434)\n",
            "PCA 205 score [0.7218543  0.66225166 0.70666667]\n",
            "Mean ROC (AUC = 0.76479194 +- 0.03975397)\n",
            "PCA 204 score [0.71523179 0.64900662 0.7       ]\n",
            "Mean ROC (AUC = 0.76450803 +- 0.03894599)\n",
            "PCA 203 score [0.70860927 0.64900662 0.7       ]\n",
            "Mean ROC (AUC = 0.76371966 +- 0.04136436)\n",
            "PCA 202 score [0.7218543  0.64900662 0.70666667]\n",
            "Mean ROC (AUC = 0.76343340 +- 0.04100473)\n",
            "PCA 201 score [0.70860927 0.64900662 0.70666667]\n",
            "Mean ROC (AUC = 0.76497026 +- 0.04077430)\n",
            "PCA 200 score [0.71523179 0.64900662 0.70666667]\n",
            "Mean ROC (AUC = 0.76466524 +- 0.04070254)\n",
            "PCA 199 score [0.71523179 0.64900662 0.7       ]\n",
            "Mean ROC (AUC = 0.76514858 +- 0.04102140)\n",
            "PCA 198 score [0.71523179 0.65562914 0.69333333]\n",
            "Mean ROC (AUC = 0.76574925 +- 0.04011306)\n",
            "PCA 197 score [0.73509934 0.66225166 0.69333333]\n",
            "Mean ROC (AUC = 0.76556623 +- 0.03931188)\n",
            "PCA 196 score [0.73509934 0.66887417 0.69333333]\n",
            "Mean ROC (AUC = 0.76642265 +- 0.03802461)\n",
            "PCA 195 score [0.7218543  0.65562914 0.69333333]\n",
            "Mean ROC (AUC = 0.76602846 +- 0.03813760)\n",
            "PCA 194 score [0.72847682 0.66887417 0.7       ]\n",
            "Mean ROC (AUC = 0.76534568 +- 0.03830428)\n",
            "PCA 193 score [0.72847682 0.66225166 0.7       ]\n",
            "Mean ROC (AUC = 0.76505473 +- 0.03838200)\n",
            "PCA 192 score [0.72847682 0.65562914 0.7       ]\n",
            "Mean ROC (AUC = 0.76368681 +- 0.03861580)\n",
            "PCA 191 score [0.72847682 0.65562914 0.71333333]\n",
            "Mean ROC (AUC = 0.76340290 +- 0.03893590)\n",
            "PCA 190 score [0.7218543  0.66225166 0.7       ]\n",
            "Mean ROC (AUC = 0.76390267 +- 0.03876233)\n",
            "PCA 189 score [0.71523179 0.65562914 0.7       ]\n",
            "Mean ROC (AUC = 0.76303687 +- 0.03814071)\n",
            "PCA 188 score [0.71523179 0.66225166 0.70666667]\n",
            "Mean ROC (AUC = 0.76566243 +- 0.03834364)\n",
            "PCA 187 score [0.71523179 0.66225166 0.70666667]\n",
            "Mean ROC (AUC = 0.76547472 +- 0.03935111)\n",
            "PCA 186 score [0.7218543  0.66225166 0.70666667]\n",
            "Mean ROC (AUC = 0.76272012 +- 0.04073207)\n",
            "PCA 185 score [0.72847682 0.67549669 0.7       ]\n",
            "Mean ROC (AUC = 0.76359296 +- 0.04121053)\n",
            "PCA 184 score [0.72847682 0.67549669 0.7       ]\n",
            "Mean ROC (AUC = 0.76514154 +- 0.04152993)\n",
            "PCA 183 score [0.72847682 0.67549669 0.70666667]\n",
            "Mean ROC (AUC = 0.76378066 +- 0.04006927)\n",
            "PCA 182 score [0.72847682 0.66887417 0.70666667]\n",
            "Mean ROC (AUC = 0.76438367 +- 0.03727367)\n",
            "PCA 181 score [0.73509934 0.66887417 0.70666667]\n",
            "Mean ROC (AUC = 0.76449395 +- 0.03795804)\n",
            "PCA 180 score [0.72847682 0.67549669 0.70666667]\n",
            "Mean ROC (AUC = 0.76403642 +- 0.03642352)\n",
            "PCA 179 score [0.7218543  0.66887417 0.71333333]\n",
            "Mean ROC (AUC = 0.76511104 +- 0.03877363)\n",
            "PCA 178 score [0.72847682 0.66887417 0.71333333]\n",
            "Mean ROC (AUC = 0.76519786 +- 0.03852654)\n",
            "PCA 177 score [0.72847682 0.66225166 0.71333333]\n",
            "Mean ROC (AUC = 0.76513450 +- 0.03461864)\n",
            "PCA 176 score [0.70860927 0.66225166 0.71333333]\n",
            "Mean ROC (AUC = 0.76303687 +- 0.03890536)\n",
            "PCA 175 score [0.71523179 0.66225166 0.71333333]\n",
            "Mean ROC (AUC = 0.75716632 +- 0.04437774)\n",
            "PCA 174 score [0.71523179 0.66887417 0.71333333]\n",
            "Mean ROC (AUC = 0.75911848 +- 0.04373067)\n",
            "PCA 173 score [0.71523179 0.66887417 0.70666667]\n",
            "Mean ROC (AUC = 0.76055913 +- 0.04463242)\n",
            "PCA 172 score [0.69536424 0.67549669 0.70666667]\n",
            "Mean ROC (AUC = 0.75601192 +- 0.04475412)\n",
            "PCA 171 score [0.69536424 0.67549669 0.70666667]\n",
            "Mean ROC (AUC = 0.75649057 +- 0.04512177)\n",
            "PCA 170 score [0.70198675 0.67549669 0.70666667]\n",
            "Mean ROC (AUC = 0.75716397 +- 0.04483333)\n",
            "PCA 169 score [0.70198675 0.67549669 0.7       ]\n",
            "Mean ROC (AUC = 0.75707012 +- 0.04432187)\n",
            "PCA 168 score [0.70198675 0.67549669 0.7       ]\n",
            "Mean ROC (AUC = 0.75580544 +- 0.04473723)\n",
            "PCA 167 score [0.68874172 0.68211921 0.71333333]\n",
            "Mean ROC (AUC = 0.75989746 +- 0.04557266)\n",
            "PCA 166 score [0.70198675 0.66225166 0.70666667]\n",
            "Mean ROC (AUC = 0.76153052 +- 0.04913035)\n",
            "PCA 165 score [0.7218543  0.66225166 0.71333333]\n",
            "Mean ROC (AUC = 0.76268257 +- 0.04988251)\n",
            "PCA 164 score [0.7218543  0.66225166 0.7       ]\n",
            "Mean ROC (AUC = 0.76472389 +- 0.05443923)\n",
            "PCA 163 score [0.72847682 0.66225166 0.7       ]\n",
            "Mean ROC (AUC = 0.76539964 +- 0.05572100)\n",
            "PCA 162 score [0.72847682 0.68211921 0.70666667]\n",
            "Mean ROC (AUC = 0.76967703 +- 0.05556124)\n",
            "PCA 161 score [0.72847682 0.68211921 0.70666667]\n",
            "Mean ROC (AUC = 0.76966764 +- 0.05711534)\n",
            "PCA 160 score [0.71523179 0.67549669 0.70666667]\n",
            "Mean ROC (AUC = 0.77133824 +- 0.05763607)\n",
            "PCA 159 score [0.7218543  0.68874172 0.70666667]\n",
            "Mean ROC (AUC = 0.77111768 +- 0.06031993)\n",
            "PCA 158 score [0.7218543  0.66887417 0.70666667]\n",
            "Mean ROC (AUC = 0.76945647 +- 0.05838934)\n",
            "PCA 157 score [0.70198675 0.66225166 0.7       ]\n",
            "Mean ROC (AUC = 0.77015333 +- 0.05815848)\n",
            "PCA 156 score [0.70198675 0.66887417 0.70666667]\n",
            "Mean ROC (AUC = 0.77564612 +- 0.05838143)\n",
            "PCA 155 score [0.7218543  0.67549669 0.72      ]\n",
            "Mean ROC (AUC = 0.77099567 +- 0.05828820)\n",
            "PCA 154 score [0.71523179 0.66887417 0.72      ]\n",
            "Mean ROC (AUC = 0.76991166 +- 0.05840457)\n",
            "PCA 153 score [0.71523179 0.66225166 0.7       ]\n",
            "Mean ROC (AUC = 0.76970049 +- 0.05910924)\n",
            "PCA 152 score [0.7218543  0.66225166 0.72      ]\n",
            "Mean ROC (AUC = 0.77083612 +- 0.06028437)\n",
            "PCA 151 score [0.73509934 0.66887417 0.71333333]\n",
            "Mean ROC (AUC = 0.77215711 +- 0.06054150)\n",
            "PCA 150 score [0.74172185 0.66225166 0.71333333]\n",
            "Mean ROC (AUC = 0.77552881 +- 0.06036843)\n",
            "PCA 149 score [0.73509934 0.66887417 0.70666667]\n",
            "Mean ROC (AUC = 0.76869625 +- 0.06942623)\n",
            "PCA 148 score [0.72847682 0.66225166 0.7       ]\n",
            "Mean ROC (AUC = 0.76438602 +- 0.07161675)\n",
            "PCA 147 score [0.73509934 0.66225166 0.70666667]\n",
            "Mean ROC (AUC = 0.76291252 +- 0.06997007)\n",
            "PCA 146 score [0.72847682 0.66225166 0.70666667]\n",
            "Mean ROC (AUC = 0.76795012 +- 0.06802097)\n",
            "PCA 145 score [0.7218543  0.66225166 0.71333333]\n",
            "Mean ROC (AUC = 0.76777414 +- 0.06945156)\n",
            "PCA 144 score [0.72847682 0.66225166 0.70666667]\n",
            "Mean ROC (AUC = 0.76777414 +- 0.06868896)\n",
            "PCA 143 score [0.73509934 0.64900662 0.71333333]\n",
            "Mean ROC (AUC = 0.76661739 +- 0.06615264)\n",
            "PCA 142 score [0.70860927 0.66225166 0.72      ]\n",
            "Mean ROC (AUC = 0.76432971 +- 0.06050881)\n",
            "PCA 141 score [0.70198675 0.66225166 0.70666667]\n",
            "Mean ROC (AUC = 0.76834430 +- 0.06337239)\n",
            "PCA 140 score [0.70198675 0.66225166 0.72      ]\n",
            "Mean ROC (AUC = 0.76970284 +- 0.06457877)\n",
            "PCA 139 score [0.68874172 0.64238411 0.7       ]\n",
            "Mean ROC (AUC = 0.76696231 +- 0.06422126)\n",
            "PCA 138 score [0.69536424 0.64238411 0.7       ]\n",
            "Mean ROC (AUC = 0.76873849 +- 0.06331941)\n",
            "PCA 137 score [0.70860927 0.65562914 0.72      ]\n",
            "Mean ROC (AUC = 0.75289363 +- 0.06401684)\n",
            "PCA 136 score [0.70860927 0.65562914 0.71333333]\n",
            "Mean ROC (AUC = 0.75269888 +- 0.06553818)\n",
            "PCA 135 score [0.70198675 0.65562914 0.72      ]\n",
            "Mean ROC (AUC = 0.75879703 +- 0.06418378)\n",
            "PCA 134 score [0.70198675 0.65562914 0.71333333]\n",
            "Mean ROC (AUC = 0.75126761 +- 0.06666287)\n",
            "PCA 133 score [0.70198675 0.66225166 0.7       ]\n",
            "Mean ROC (AUC = 0.75665247 +- 0.06653914)\n",
            "PCA 132 score [0.70198675 0.64900662 0.7       ]\n",
            "Mean ROC (AUC = 0.75754643 +- 0.06661611)\n",
            "PCA 131 score [0.69536424 0.64900662 0.71333333]\n",
            "Mean ROC (AUC = 0.75783034 +- 0.06647136)\n",
            "PCA 130 score [0.69536424 0.62251656 0.71333333]\n",
            "Mean ROC (AUC = 0.76000305 +- 0.06650374)\n",
            "PCA 129 score [0.69536424 0.63576159 0.72666667]\n",
            "Mean ROC (AUC = 0.76110349 +- 0.06654037)\n",
            "PCA 128 score [0.68874172 0.64238411 0.72      ]\n",
            "Mean ROC (AUC = 0.76501484 +- 0.06597979)\n",
            "PCA 127 score [0.69536424 0.62913907 0.7       ]\n",
            "Mean ROC (AUC = 0.76521428 +- 0.06625655)\n",
            "PCA 126 score [0.69536424 0.63576159 0.70666667]\n",
            "Mean ROC (AUC = 0.76959960 +- 0.06243534)\n",
            "PCA 125 score [0.68874172 0.64238411 0.71333333]\n",
            "Mean ROC (AUC = 0.76809324 +- 0.05485967)\n",
            "PCA 124 score [0.70198675 0.64238411 0.70666667]\n",
            "Mean ROC (AUC = 0.76849916 +- 0.05334309)\n",
            "PCA 123 score [0.70860927 0.64238411 0.68666667]\n",
            "Mean ROC (AUC = 0.77171834 +- 0.05340511)\n",
            "PCA 122 score [0.70198675 0.64900662 0.7       ]\n",
            "Mean ROC (AUC = 0.77240817 +- 0.05318146)\n",
            "PCA 121 score [0.70198675 0.62913907 0.7       ]\n",
            "Mean ROC (AUC = 0.77385117 +- 0.05160186)\n",
            "PCA 120 score [0.68874172 0.61589404 0.7       ]\n",
            "Mean ROC (AUC = 0.76944005 +- 0.05179981)\n",
            "PCA 119 score [0.69536424 0.61589404 0.68666667]\n",
            "Mean ROC (AUC = 0.76257934 +- 0.05211875)\n",
            "PCA 118 score [0.70198675 0.60927152 0.70666667]\n",
            "Mean ROC (AUC = 0.75440467 +- 0.06001818)\n",
            "PCA 117 score [0.69536424 0.62251656 0.7       ]\n",
            "Mean ROC (AUC = 0.76022595 +- 0.05970543)\n",
            "PCA 116 score [0.69536424 0.62251656 0.70666667]\n",
            "Mean ROC (AUC = 0.76205610 +- 0.05775009)\n",
            "PCA 115 score [0.70198675 0.62251656 0.70666667]\n",
            "Mean ROC (AUC = 0.76207487 +- 0.05759106)\n",
            "PCA 114 score [0.69536424 0.62251656 0.7       ]\n",
            "Mean ROC (AUC = 0.75659147 +- 0.05828890)\n",
            "PCA 113 score [0.69536424 0.62913907 0.7       ]\n",
            "Mean ROC (AUC = 0.75679091 +- 0.05657293)\n",
            "PCA 112 score [0.7218543  0.62251656 0.7       ]\n",
            "Mean ROC (AUC = 0.75903166 +- 0.05518502)\n",
            "PCA 111 score [0.68874172 0.64238411 0.68666667]\n",
            "Mean ROC (AUC = 0.76115745 +- 0.04322198)\n",
            "PCA 110 score [0.68874172 0.63576159 0.69333333]\n",
            "Mean ROC (AUC = 0.75620901 +- 0.04755906)\n",
            "PCA 109 score [0.68874172 0.62251656 0.7       ]\n",
            "Mean ROC (AUC = 0.75777637 +- 0.04660329)\n",
            "PCA 108 score [0.68874172 0.62913907 0.68666667]\n",
            "Mean ROC (AUC = 0.75768017 +- 0.04662014)\n",
            "PCA 107 score [0.70198675 0.62251656 0.69333333]\n",
            "Mean ROC (AUC = 0.75486690 +- 0.04147486)\n",
            "PCA 106 score [0.68874172 0.62913907 0.68666667]\n",
            "Mean ROC (AUC = 0.75274816 +- 0.04277499)\n",
            "PCA 105 score [0.69536424 0.62913907 0.68666667]\n",
            "Mean ROC (AUC = 0.75468154 +- 0.04298717)\n",
            "PCA 104 score [0.68211921 0.62251656 0.71333333]\n",
            "Mean ROC (AUC = 0.75571863 +- 0.04699535)\n",
            "PCA 103 score [0.68211921 0.62251656 0.71333333]\n",
            "Mean ROC (AUC = 0.75905513 +- 0.04903786)\n",
            "PCA 102 score [0.69536424 0.62251656 0.72666667]\n",
            "Mean ROC (AUC = 0.75543941 +- 0.04795576)\n",
            "PCA 101 score [0.68874172 0.62251656 0.72666667]\n",
            "Mean ROC (AUC = 0.75662901 +- 0.04902684)\n",
            "PCA 100 score [0.71523179 0.62913907 0.73333333]\n",
            "Mean ROC (AUC = 0.75843569 +- 0.04646560)\n",
            "PCA 99 score [0.7218543  0.63576159 0.70666667]\n",
            "Mean ROC (AUC = 0.74153498 +- 0.05442442)\n",
            "PCA 98 score [0.73509934 0.60927152 0.70666667]\n",
            "Mean ROC (AUC = 0.74550968 +- 0.05306500)\n",
            "PCA 97 score [0.71523179 0.62251656 0.72666667]\n",
            "Mean ROC (AUC = 0.74844731 +- 0.05319495)\n",
            "PCA 96 score [0.72847682 0.64900662 0.72666667]\n",
            "Mean ROC (AUC = 0.74975422 +- 0.05709763)\n",
            "PCA 95 score [0.71523179 0.66225166 0.70666667]\n",
            "Mean ROC (AUC = 0.75575148 +- 0.04562064)\n",
            "PCA 94 score [0.71523179 0.62913907 0.69333333]\n",
            "Mean ROC (AUC = 0.73518812 +- 0.04883042)\n",
            "PCA 93 score [0.71523179 0.62913907 0.71333333]\n",
            "Mean ROC (AUC = 0.73521862 +- 0.05492481)\n",
            "PCA 92 score [0.70860927 0.64238411 0.72      ]\n",
            "Mean ROC (AUC = 0.73705346 +- 0.05865003)\n",
            "PCA 91 score [0.70860927 0.62251656 0.71333333]\n",
            "Mean ROC (AUC = 0.73616654 +- 0.05829950)\n",
            "PCA 90 score [0.7218543  0.62913907 0.70666667]\n",
            "Mean ROC (AUC = 0.73398444 +- 0.05638475)\n",
            "PCA 89 score [0.70860927 0.62251656 0.72      ]\n",
            "Mean ROC (AUC = 0.74541583 +- 0.04626809)\n",
            "PCA 88 score [0.70198675 0.66225166 0.72666667]\n",
            "Mean ROC (AUC = 0.75205129 +- 0.04093840)\n",
            "PCA 87 score [0.70198675 0.64238411 0.76      ]\n",
            "Mean ROC (AUC = 0.75049332 +- 0.04592323)\n",
            "PCA 86 score [0.70198675 0.64238411 0.75333333]\n",
            "Mean ROC (AUC = 0.75707481 +- 0.03949376)\n",
            "PCA 85 score [0.70198675 0.64238411 0.75333333]\n",
            "Mean ROC (AUC = 0.75663370 +- 0.04017019)\n",
            "PCA 84 score [0.69536424 0.64238411 0.76      ]\n",
            "Mean ROC (AUC = 0.75473082 +- 0.04071188)\n",
            "PCA 83 score [0.68874172 0.65562914 0.76666667]\n",
            "Mean ROC (AUC = 0.75740330 +- 0.03521539)\n",
            "PCA 82 score [0.69536424 0.64238411 0.76      ]\n",
            "Mean ROC (AUC = 0.75487629 +- 0.04583694)\n",
            "PCA 81 score [0.69536424 0.64900662 0.74666667]\n",
            "Mean ROC (AUC = 0.75100248 +- 0.04732460)\n",
            "PCA 80 score [0.68874172 0.62913907 0.74      ]\n",
            "Mean ROC (AUC = 0.74746888 +- 0.05164578)\n",
            "PCA 79 score [0.69536424 0.63576159 0.73333333]\n",
            "Mean ROC (AUC = 0.74998885 +- 0.05230080)\n",
            "PCA 78 score [0.68874172 0.63576159 0.73333333]\n",
            "Mean ROC (AUC = 0.74958998 +- 0.05682736)\n",
            "PCA 77 score [0.68874172 0.62913907 0.73333333]\n",
            "Mean ROC (AUC = 0.74921925 +- 0.05688338)\n",
            "PCA 76 score [0.69536424 0.66887417 0.73333333]\n",
            "Mean ROC (AUC = 0.75059656 +- 0.05504446)\n",
            "PCA 75 score [0.70860927 0.66887417 0.74      ]\n",
            "Mean ROC (AUC = 0.75807905 +- 0.05028280)\n",
            "PCA 74 score [0.72847682 0.65562914 0.75333333]\n",
            "Mean ROC (AUC = 0.75304849 +- 0.05211737)\n",
            "PCA 73 score [0.7218543  0.65562914 0.75333333]\n",
            "Mean ROC (AUC = 0.75081477 +- 0.05434251)\n",
            "PCA 72 score [0.7218543  0.65562914 0.75333333]\n",
            "Mean ROC (AUC = 0.75071153 +- 0.05362064)\n",
            "PCA 71 score [0.7218543  0.66225166 0.75333333]\n",
            "Mean ROC (AUC = 0.75774117 +- 0.05031292)\n",
            "PCA 70 score [0.7218543  0.65562914 0.75333333]\n",
            "Mean ROC (AUC = 0.75250414 +- 0.05627865)\n",
            "PCA 69 score [0.7218543  0.64900662 0.76      ]\n",
            "Mean ROC (AUC = 0.75753000 +- 0.05486379)\n",
            "PCA 68 score [0.72847682 0.65562914 0.75333333]\n",
            "Mean ROC (AUC = 0.75389317 +- 0.05482116)\n",
            "PCA 67 score [0.72847682 0.64900662 0.75333333]\n",
            "Mean ROC (AUC = 0.75599784 +- 0.05370027)\n",
            "PCA 66 score [0.72847682 0.66225166 0.74      ]\n",
            "Mean ROC (AUC = 0.75628175 +- 0.05453447)\n",
            "PCA 65 score [0.71523179 0.65562914 0.75333333]\n",
            "Mean ROC (AUC = 0.75472847 +- 0.05581167)\n",
            "PCA 64 score [0.72847682 0.65562914 0.76      ]\n",
            "Mean ROC (AUC = 0.76170415 +- 0.05630806)\n",
            "PCA 63 score [0.70198675 0.66225166 0.75333333]\n",
            "Mean ROC (AUC = 0.75287251 +- 0.04895382)\n",
            "PCA 62 score [0.70198675 0.66225166 0.73333333]\n",
            "Mean ROC (AUC = 0.75107990 +- 0.04851705)\n",
            "PCA 61 score [0.69536424 0.68211921 0.73333333]\n",
            "Mean ROC (AUC = 0.75467685 +- 0.05347775)\n",
            "PCA 60 score [0.68874172 0.68874172 0.73333333]\n",
            "Mean ROC (AUC = 0.76432971 +- 0.04992414)\n",
            "PCA 59 score [0.71523179 0.68874172 0.72666667]\n",
            "Mean ROC (AUC = 0.76509931 +- 0.05284229)\n",
            "PCA 58 score [0.70860927 0.68874172 0.74      ]\n",
            "Mean ROC (AUC = 0.76598388 +- 0.05183061)\n",
            "PCA 57 score [0.67549669 0.70198675 0.72666667]\n",
            "Mean ROC (AUC = 0.75660789 +- 0.04575117)\n",
            "PCA 56 score [0.68211921 0.70198675 0.73333333]\n",
            "Mean ROC (AUC = 0.75427563 +- 0.04456638)\n",
            "PCA 55 score [0.67549669 0.68874172 0.74      ]\n",
            "Mean ROC (AUC = 0.75619963 +- 0.04340440)\n",
            "PCA 54 score [0.66887417 0.69536424 0.72      ]\n",
            "Mean ROC (AUC = 0.75680029 +- 0.04277281)\n",
            "PCA 53 score [0.66887417 0.74172185 0.72      ]\n",
            "Mean ROC (AUC = 0.75984350 +- 0.04618893)\n",
            "PCA 52 score [0.66887417 0.74172185 0.72      ]\n",
            "Mean ROC (AUC = 0.76362111 +- 0.04916485)\n",
            "PCA 51 score [0.66225166 0.7218543  0.72666667]\n",
            "Mean ROC (AUC = 0.76513216 +- 0.05176835)\n",
            "PCA 50 score [0.66225166 0.7218543  0.72666667]\n",
            "Mean ROC (AUC = 0.76521193 +- 0.05008856)\n",
            "PCA 49 score [0.64900662 0.71523179 0.74      ]\n",
            "Mean ROC (AUC = 0.76571405 +- 0.06056688)\n",
            "PCA 48 score [0.65562914 0.7218543  0.74666667]\n",
            "Mean ROC (AUC = 0.76738465 +- 0.06254493)\n",
            "PCA 47 score [0.66887417 0.7218543  0.73333333]\n",
            "Mean ROC (AUC = 0.77852040 +- 0.06558298)\n",
            "PCA 46 score [0.66887417 0.70860927 0.73333333]\n",
            "Mean ROC (AUC = 0.77553350 +- 0.06555772)\n",
            "PCA 45 score [0.66887417 0.70860927 0.72      ]\n",
            "Mean ROC (AUC = 0.78760075 +- 0.05315873)\n",
            "PCA 44 score [0.66225166 0.72847682 0.71333333]\n",
            "Mean ROC (AUC = 0.78126093 +- 0.06553676)\n",
            "PCA 43 score [0.66887417 0.71523179 0.76      ]\n",
            "Mean ROC (AUC = 0.78657070 +- 0.06488788)\n",
            "PCA 42 score [0.64238411 0.7218543  0.76      ]\n",
            "Mean ROC (AUC = 0.78953883 +- 0.05817027)\n",
            "PCA 41 score [0.66887417 0.69536424 0.75333333]\n",
            "Mean ROC (AUC = 0.78869180 +- 0.05147945)\n",
            "PCA 40 score [0.66225166 0.69536424 0.74666667]\n",
            "Mean ROC (AUC = 0.78974530 +- 0.04995281)\n",
            "PCA 39 score [0.68211921 0.68874172 0.75333333]\n",
            "Mean ROC (AUC = 0.78896866 +- 0.04940669)\n",
            "PCA 38 score [0.66887417 0.7218543  0.73333333]\n",
            "Mean ROC (AUC = 0.76917256 +- 0.06654416)\n",
            "PCA 37 score [0.65562914 0.71523179 0.74666667]\n",
            "Mean ROC (AUC = 0.77168080 +- 0.06565061)\n",
            "PCA 36 score [0.67549669 0.70860927 0.74666667]\n",
            "Mean ROC (AUC = 0.78404604 +- 0.05065182)\n",
            "PCA 35 score [0.67549669 0.70860927 0.74666667]\n",
            "Mean ROC (AUC = 0.78424547 +- 0.05125511)\n",
            "PCA 34 score [0.67549669 0.71523179 0.72666667]\n",
            "Mean ROC (AUC = 0.78680299 +- 0.05412453)\n",
            "PCA 33 score [0.67549669 0.75496689 0.71333333]\n",
            "Mean ROC (AUC = 0.79062049 +- 0.05345423)\n",
            "PCA 32 score [0.67549669 0.7615894  0.71333333]\n",
            "Mean ROC (AUC = 0.79125400 +- 0.04934403)\n",
            "PCA 31 score [0.68211921 0.74834437 0.74      ]\n",
            "Mean ROC (AUC = 0.78478279 +- 0.04684918)\n",
            "PCA 30 score [0.66225166 0.72847682 0.73333333]\n",
            "Mean ROC (AUC = 0.77052406 +- 0.06640023)\n",
            "PCA 29 score [0.68874172 0.73509934 0.72666667]\n",
            "Mean ROC (AUC = 0.77679349 +- 0.05680089)\n",
            "PCA 28 score [0.68874172 0.73509934 0.72666667]\n",
            "Mean ROC (AUC = 0.78004317 +- 0.05931537)\n",
            "PCA 27 score [0.68211921 0.72847682 0.73333333]\n",
            "Mean ROC (AUC = 0.78303945 +- 0.05619100)\n",
            "PCA 26 score [0.69536424 0.72847682 0.72666667]\n",
            "Mean ROC (AUC = 0.78876688 +- 0.05326133)\n",
            "PCA 25 score [0.70198675 0.73509934 0.76666667]\n",
            "Mean ROC (AUC = 0.79370359 +- 0.05315990)\n",
            "PCA 24 score [0.73509934 0.73509934 0.76666667]\n",
            "Mean ROC (AUC = 0.79732634 +- 0.04541784)\n",
            "PCA 23 score [0.73509934 0.73509934 0.76      ]\n",
            "Mean ROC (AUC = 0.79715975 +- 0.03343427)\n",
            "PCA 22 score [0.73509934 0.74172185 0.73333333]\n",
            "Mean ROC (AUC = 0.80080128 +- 0.03784220)\n",
            "PCA 21 score [0.74172185 0.75496689 0.8       ]\n",
            "Mean ROC (AUC = 0.80669764 +- 0.04219441)\n",
            "PCA 20 score [0.73509934 0.75496689 0.8       ]\n",
            "Mean ROC (AUC = 0.80979950 +- 0.04059906)\n",
            "PCA 19 score [0.73509934 0.76821192 0.8       ]\n",
            "Mean ROC (AUC = 0.81059022 +- 0.04113800)\n",
            "PCA 18 score [0.73509934 0.76821192 0.8       ]\n",
            "Mean ROC (AUC = 0.81078966 +- 0.04312575)\n",
            "PCA 17 score [0.75496689 0.7615894  0.79333333]\n",
            "Mean ROC (AUC = 0.81075916 +- 0.04285575)\n",
            "PCA 16 score [0.75496689 0.76821192 0.81333333]\n",
            "Mean ROC (AUC = 0.81154753 +- 0.04197125)\n",
            "PCA 15 score [0.72847682 0.74834437 0.80666667]\n",
            "Mean ROC (AUC = 0.80761271 +- 0.04215132)\n",
            "PCA 14 score [0.72847682 0.7615894  0.80666667]\n",
            "Mean ROC (AUC = 0.81378594 +- 0.04040028)\n",
            "PCA 13 score [0.72847682 0.7615894  0.80666667]\n",
            "Mean ROC (AUC = 0.80848790 +- 0.02530256)\n",
            "PCA 12 score [0.71523179 0.78807947 0.76666667]\n",
            "Mean ROC (AUC = 0.79660132 +- 0.03186536)\n",
            "PCA 11 score [0.74172185 0.79470199 0.74666667]\n",
            "Mean ROC (AUC = 0.79299968 +- 0.03203512)\n",
            "PCA 10 score [0.75496689 0.78145695 0.78666667]\n",
            "Mean ROC (AUC = 0.79266181 +- 0.03110351)\n",
            "PCA 9 score [0.74834437 0.78807947 0.78      ]\n",
            "Mean ROC (AUC = 0.78893347 +- 0.03195046)\n",
            "PCA 8 score [0.74834437 0.78807947 0.77333333]\n",
            "Mean ROC (AUC = 0.79056887 +- 0.03255344)\n",
            "PCA 7 score [0.76821192 0.78145695 0.76      ]\n",
            "Mean ROC (AUC = 0.79529206 +- 0.03523957)\n",
            "PCA 6 score [0.72847682 0.74172185 0.67333333]\n",
            "Mean ROC (AUC = 0.75993266 +- 0.03795379)\n",
            "PCA 5 score [0.68874172 0.7218543  0.67333333]\n",
            "Mean ROC (AUC = 0.75346848 +- 0.03715251)\n",
            "PCA 4 score [0.70198675 0.7218543  0.66      ]\n",
            "Mean ROC (AUC = 0.75118080 +- 0.03920622)\n",
            "PCA 3 score [0.61589404 0.61589404 0.62      ]\n",
            "Mean ROC (AUC = 0.64222128 +- 0.04470337)\n",
            "PCA 2 score [0.57615894 0.59602649 0.54      ]\n",
            "Mean ROC (AUC = 0.58858152 +- 0.06040605)\n",
            "PCA 1 score [0.58278146 0.62913907 0.52666667]\n",
            "Mean ROC (AUC = 0.59182651 +- 0.06831434)\n"
          ],
          "name": "stdout"
        }
      ]
    },
    {
      "cell_type": "markdown",
      "metadata": {
        "id": "lbIyEgGLkmu_",
        "colab_type": "text"
      },
      "source": [
        "PCA 14 score [0.72847682 0.7615894  0.80666667]\n",
        "Mean ROC (AUC = 0.81378594 +- 0.04040028)"
      ]
    },
    {
      "cell_type": "code",
      "metadata": {
        "id": "g_O7ZvUV_laU",
        "colab_type": "code",
        "colab": {}
      },
      "source": [
        "# Choose first 14 principle components\n",
        "data_scaled = StandardScaler().fit_transform(df.values)\n",
        "pca = PCA(n_components=14)\n",
        "principalComponents = pca.fit_transform(data_scaled)"
      ],
      "execution_count": 0,
      "outputs": []
    },
    {
      "cell_type": "markdown",
      "metadata": {
        "id": "jVLOQLwJ5kVJ",
        "colab_type": "text"
      },
      "source": [
        "### Logistic regression"
      ]
    },
    {
      "cell_type": "code",
      "metadata": {
        "id": "lZo3w45W5kkE",
        "colab_type": "code",
        "outputId": "8dd8082e-f3d4-4950-ad17-1edded070bfa",
        "colab": {
          "base_uri": "https://localhost:8080/",
          "height": 329
        }
      },
      "source": [
        "logi_model = LogisticRegression()\n",
        "test_model(logi_model, principalComponents, arrythmia.values)"
      ],
      "execution_count": 0,
      "outputs": [
        {
          "output_type": "stream",
          "text": [
            "score [0.72847682 0.7615894  0.80666667]\n"
          ],
          "name": "stdout"
        },
        {
          "output_type": "display_data",
          "data": {
            "image/png": "[encoded data removed]",
            "text/plain": [
              "<Figure size 432x288 with 1 Axes>"
            ]
          },
          "metadata": {
            "tags": []
          }
        },
        {
          "output_type": "stream",
          "text": [
            "Mean ROC (AUC = 0.81378594 +- 0.04040028)\n"
          ],
          "name": "stdout"
        }
      ]
    },
    {
      "cell_type": "markdown",
      "metadata": {
        "id": "CtmB2btXCdWK",
        "colab_type": "text"
      },
      "source": [
        "### K Nearest Neighbors"
      ]
    },
    {
      "cell_type": "code",
      "metadata": {
        "id": "jlP6fNwPChi2",
        "colab_type": "code",
        "outputId": "e80098f7-9db4-46b7-dd5f-2c4fc500a689",
        "colab": {
          "base_uri": "https://localhost:8080/",
          "height": 329
        }
      },
      "source": [
        "# KNN with features selected\n",
        "from sklearn import neighbors\n",
        "\n",
        "knn_model = neighbors.KNeighborsClassifier()\n",
        "\n",
        "test_model(knn_model, principalComponents, arrythmia.values)"
      ],
      "execution_count": 0,
      "outputs": [
        {
          "output_type": "stream",
          "text": [
            "score [0.7218543  0.72847682 0.68666667]\n"
          ],
          "name": "stdout"
        },
        {
          "output_type": "display_data",
          "data": {
            "image/png": "[encoded data removed]",
            "text/plain": [
              "<Figure size 432x288 with 1 Axes>"
            ]
          },
          "metadata": {
            "tags": []
          }
        },
        {
          "output_type": "stream",
          "text": [
            "Mean ROC (AUC = 0.74537172 +- 0.05067122)\n"
          ],
          "name": "stdout"
        }
      ]
    },
    {
      "cell_type": "markdown",
      "metadata": {
        "id": "ijLawp5pAyDT",
        "colab_type": "text"
      },
      "source": [
        "### Support vector machine"
      ]
    },
    {
      "cell_type": "code",
      "metadata": {
        "id": "IC4Aui2y--5Z",
        "colab_type": "code",
        "outputId": "c297e37c-78f8-4c0f-aca6-191136dc740c",
        "colab": {
          "base_uri": "https://localhost:8080/",
          "height": 329
        }
      },
      "source": [
        "from sklearn import svm\n",
        "\n",
        "svm_model = svm.SVC(kernel='linear',probability=True)\n",
        "\n",
        "test_model(svm_model, principalComponents, arrythmia.values)"
      ],
      "execution_count": 0,
      "outputs": [
        {
          "output_type": "stream",
          "text": [
            "score [0.7218543  0.7615894  0.79333333]\n"
          ],
          "name": "stdout"
        },
        {
          "output_type": "display_data",
          "data": {
            "image/png": "[encoded data removed]",
            "text/plain": [
              "<Figure size 432x288 with 1 Axes>"
            ]
          },
          "metadata": {
            "tags": []
          }
        },
        {
          "output_type": "stream",
          "text": [
            "Mean ROC (AUC = 0.81085193 +- 0.04214959)\n"
          ],
          "name": "stdout"
        }
      ]
    },
    {
      "cell_type": "markdown",
      "metadata": {
        "id": "Oo1bPaZTA6DA",
        "colab_type": "text"
      },
      "source": [
        "### Tree-based Models\n",
        "#### Hyperparameter Tuning"
      ]
    },
    {
      "cell_type": "code",
      "metadata": {
        "id": "TomSrLJJB1yO",
        "colab_type": "code",
        "colab": {}
      },
      "source": [
        "from sklearn.model_selection import GridSearchCV\n",
        "# First I will define two functions to help me get the optimized estimator parameters and the importance of features\n",
        "\n",
        "def show_optimized_parameters(model, params, x_train, y_train):\n",
        "    \"\"\"function that takes a model, a dictionary of parameters of tree model, and traing x and y as parameters and \n",
        "    print the optimized parameters\n",
        "    \"\"\"\n",
        "    grid = GridSearchCV(model, params)\n",
        "    grid.fit(x_train, y_train)\n",
        "    print(grid.best_estimator_)"
      ],
      "execution_count": 0,
      "outputs": []
    },
    {
      "cell_type": "markdown",
      "metadata": {
        "id": "nJ_IoTjuCMCx",
        "colab_type": "text"
      },
      "source": [
        "#### Decision tree"
      ]
    },
    {
      "cell_type": "code",
      "metadata": {
        "id": "Bur4l9MlByO8",
        "colab_type": "code",
        "outputId": "6024379b-52ad-41a0-855d-d7631d924026",
        "colab": {
          "base_uri": "https://localhost:8080/",
          "height": 119
        }
      },
      "source": [
        "# Exploring the optimized parameters for the tree\n",
        "Tree = tree.DecisionTreeClassifier()\n",
        "params = {\"max_depth\":np.arange(2,50)\n",
        "              }\n",
        "show_optimized_parameters(Tree, params, principalComponents, arrythmia.values)"
      ],
      "execution_count": 0,
      "outputs": [
        {
          "output_type": "stream",
          "text": [
            "DecisionTreeClassifier(class_weight=None, criterion='gini', max_depth=5,\n",
            "                       max_features=None, max_leaf_nodes=None,\n",
            "                       min_impurity_decrease=0.0, min_impurity_split=None,\n",
            "                       min_samples_leaf=1, min_samples_split=2,\n",
            "                       min_weight_fraction_leaf=0.0, presort=False,\n",
            "                       random_state=None, splitter='best')\n"
          ],
          "name": "stdout"
        }
      ]
    },
    {
      "cell_type": "code",
      "metadata": {
        "id": "Mo0effZMCOXy",
        "colab_type": "code",
        "outputId": "d720f0ae-2154-44d9-c5db-31ee007a2bb8",
        "colab": {
          "base_uri": "https://localhost:8080/",
          "height": 329
        }
      },
      "source": [
        "# Decision tree with optimized parameters\n",
        "tree_model = tree.DecisionTreeClassifier(max_depth=5)\n",
        "test_model(tree_model, principalComponents, arrythmia.values)"
      ],
      "execution_count": 0,
      "outputs": [
        {
          "output_type": "stream",
          "text": [
            "score [0.66887417 0.7218543  0.72      ]\n"
          ],
          "name": "stdout"
        },
        {
          "output_type": "display_data",
          "data": {
            "image/png": "[encoded data removed]",
            "text/plain": [
              "<Figure size 432x288 with 1 Axes>"
            ]
          },
          "metadata": {
            "tags": []
          }
        },
        {
          "output_type": "stream",
          "text": [
            "Mean ROC (AUC = 0.66014563 +- 0.03122350)\n"
          ],
          "name": "stdout"
        }
      ]
    },
    {
      "cell_type": "markdown",
      "metadata": {
        "id": "L9sL3X-JA_y4",
        "colab_type": "text"
      },
      "source": [
        "#### Random Forest"
      ]
    },
    {
      "cell_type": "code",
      "metadata": {
        "id": "3J2ku-xqCSEP",
        "colab_type": "code",
        "outputId": "f6fc1a5f-b976-4286-f898-721ac360c88f",
        "colab": {
          "base_uri": "https://localhost:8080/",
          "height": 136
        }
      },
      "source": [
        "# Exploring the optimized parameters for the random forest\n",
        "from sklearn.ensemble import RandomForestClassifier\n",
        "RF = ensemble.RandomForestClassifier()\n",
        "params = {\"max_depth\":np.arange(2,50)\n",
        "              }\n",
        "show_optimized_parameters(RF, params, principalComponents, arrythmia.values)"
      ],
      "execution_count": 0,
      "outputs": [
        {
          "output_type": "stream",
          "text": [
            "RandomForestClassifier(bootstrap=True, class_weight=None, criterion='gini',\n",
            "                       max_depth=35, max_features='auto', max_leaf_nodes=None,\n",
            "                       min_impurity_decrease=0.0, min_impurity_split=None,\n",
            "                       min_samples_leaf=1, min_samples_split=2,\n",
            "                       min_weight_fraction_leaf=0.0, n_estimators=10,\n",
            "                       n_jobs=None, oob_score=False, random_state=None,\n",
            "                       verbose=0, warm_start=False)\n"
          ],
          "name": "stdout"
        }
      ]
    },
    {
      "cell_type": "code",
      "metadata": {
        "id": "lK6uOUdxCVoU",
        "colab_type": "code",
        "outputId": "782d6a59-0b53-4619-c92a-388bc7aafd90",
        "colab": {
          "base_uri": "https://localhost:8080/",
          "height": 329
        }
      },
      "source": [
        "# Random Forests with optimized parameters\n",
        "rf_model = ensemble.RandomForestClassifier(max_depth=35)\n",
        "test_model(rf_model, principalComponents, arrythmia.values)"
      ],
      "execution_count": 0,
      "outputs": [
        {
          "output_type": "stream",
          "text": [
            "score [0.74172185 0.68874172 0.78      ]\n"
          ],
          "name": "stdout"
        },
        {
          "output_type": "display_data",
          "data": {
            "image/png": "[encoded data removed]",
            "text/plain": [
              "<Figure size 432x288 with 1 Axes>"
            ]
          },
          "metadata": {
            "tags": []
          }
        },
        {
          "output_type": "stream",
          "text": [
            "Mean ROC (AUC = 0.76395359 +- 0.06058816)\n"
          ],
          "name": "stdout"
        }
      ]
    },
    {
      "cell_type": "markdown",
      "metadata": {
        "id": "i0H9Uub8A_rE",
        "colab_type": "text"
      },
      "source": [
        "#### Ada Boosting"
      ]
    },
    {
      "cell_type": "code",
      "metadata": {
        "id": "XubiNqUkAM3p",
        "colab_type": "code",
        "outputId": "a2fa9bf1-8a69-4b66-b092-bf667914d7d4",
        "colab": {
          "base_uri": "https://localhost:8080/",
          "height": 51
        }
      },
      "source": [
        "# Exploring the optimized parameters for the adaboost classifier\n",
        "from sklearn.ensemble import AdaBoostClassifier\n",
        "adaboost = AdaBoostClassifier()\n",
        "params = {\"n_estimators\":np.arange(10,100),\n",
        "               \"learning_rate\":(1, 0.01, 0.001)\n",
        "}\n",
        "show_optimized_parameters(adaboost, params, principalComponents, arrythmia.values)"
      ],
      "execution_count": 0,
      "outputs": [
        {
          "output_type": "stream",
          "text": [
            "AdaBoostClassifier(algorithm='SAMME.R', base_estimator=None, learning_rate=1,\n",
            "                   n_estimators=21, random_state=None)\n"
          ],
          "name": "stdout"
        }
      ]
    },
    {
      "cell_type": "code",
      "metadata": {
        "id": "2gmCNsWz2Uio",
        "colab_type": "code",
        "outputId": "56622e28-148d-45aa-b8e2-e0d2231ab282",
        "colab": {
          "base_uri": "https://localhost:8080/",
          "height": 329
        }
      },
      "source": [
        "# Ada Boosting with features selected\n",
        "ada_model = AdaBoostClassifier(n_estimators=21, learning_rate=1)\n",
        "test_model(ada_model, principalComponents, arrythmia.values)"
      ],
      "execution_count": 0,
      "outputs": [
        {
          "output_type": "stream",
          "text": [
            "score [0.67549669 0.72847682 0.76666667]\n"
          ],
          "name": "stdout"
        },
        {
          "output_type": "display_data",
          "data": {
            "image/png": "[encoded data removed]",
            "text/plain": [
              "<Figure size 432x288 with 1 Axes>"
            ]
          },
          "metadata": {
            "tags": []
          }
        },
        {
          "output_type": "stream",
          "text": [
            "Mean ROC (AUC = 0.76210162 +- 0.03080043)\n"
          ],
          "name": "stdout"
        }
      ]
    },
    {
      "cell_type": "markdown",
      "metadata": {
        "id": "BclfItTL2-P8",
        "colab_type": "text"
      },
      "source": [
        "#### Gradient Boosting"
      ]
    },
    {
      "cell_type": "code",
      "metadata": {
        "id": "TiYNrgKO3ApW",
        "colab_type": "code",
        "outputId": "f9ba7c05-fbf6-421c-af03-0ef4e8344d2c",
        "colab": {
          "base_uri": "https://localhost:8080/",
          "height": 170
        }
      },
      "source": [
        "# Exploring the optimized parameters for the gradient boost classifier\n",
        "from sklearn.ensemble import GradientBoostingClassifier\n",
        "gb = GradientBoostingClassifier()\n",
        "params = {\"n_estimators\":np.arange(10,100),\n",
        "               \"learning_rate\":(1, 0.01, 0.001)\n",
        "}\n",
        "show_optimized_parameters(gb, params, principalComponents, arrythmia.values)"
      ],
      "execution_count": 0,
      "outputs": [
        {
          "output_type": "stream",
          "text": [
            "GradientBoostingClassifier(criterion='friedman_mse', init=None, learning_rate=1,\n",
            "                           loss='deviance', max_depth=3, max_features=None,\n",
            "                           max_leaf_nodes=None, min_impurity_decrease=0.0,\n",
            "                           min_impurity_split=None, min_samples_leaf=1,\n",
            "                           min_samples_split=2, min_weight_fraction_leaf=0.0,\n",
            "                           n_estimators=42, n_iter_no_change=None,\n",
            "                           presort='auto', random_state=None, subsample=1.0,\n",
            "                           tol=0.0001, validation_fraction=0.1, verbose=0,\n",
            "                           warm_start=False)\n"
          ],
          "name": "stdout"
        }
      ]
    },
    {
      "cell_type": "code",
      "metadata": {
        "id": "JbJ6rSIT3NuN",
        "colab_type": "code",
        "outputId": "f4e4224f-8581-4471-944c-38935e2ca742",
        "colab": {
          "base_uri": "https://localhost:8080/",
          "height": 329
        }
      },
      "source": [
        "#Call training model, B=500, λ=0.01，d=1\n",
        "gb_model = GradientBoostingClassifier(n_estimators=42, learning_rate=1)\n",
        "test_model(gb_model, principalComponents, arrythmia.values)"
      ],
      "execution_count": 0,
      "outputs": [
        {
          "output_type": "stream",
          "text": [
            "score [0.70860927 0.71523179 0.75333333]\n"
          ],
          "name": "stdout"
        },
        {
          "output_type": "display_data",
          "data": {
            "image/png": "[encoded data removed]",
            "text/plain": [
              "<Figure size 432x288 with 1 Axes>"
            ]
          },
          "metadata": {
            "tags": []
          }
        },
        {
          "output_type": "stream",
          "text": [
            "Mean ROC (AUC = 0.77381598 +- 0.02453889)\n"
          ],
          "name": "stdout"
        }
      ]
    },
    {
      "cell_type": "markdown",
      "metadata": {
        "id": "MuW9AwProVSm",
        "colab_type": "text"
      },
      "source": [
        "##Step 3: Change this to get better performance for multiclass"
      ]
    },
    {
      "cell_type": "code",
      "metadata": {
        "id": "zosCWgRjWbbQ",
        "colab_type": "code",
        "outputId": "056cec71-80e8-48ea-e6d7-d7fd86d11dda",
        "colab": {
          "base_uri": "https://localhost:8080/",
          "height": 34
        }
      },
      "source": [
        "model = LogisticRegression(solver='lbfgs',multi_class='multinomial')    \n",
        "test_model_multi(model, df.values, originalclass.values)"
      ],
      "execution_count": 0,
      "outputs": [
        {
          "output_type": "stream",
          "text": [
            "avg f1-score=0.62\n"
          ],
          "name": "stdout"
        }
      ]
    },
    {
      "cell_type": "markdown",
      "metadata": {
        "colab_type": "text",
        "id": "809u2IfAAe5_"
      },
      "source": [
        "### Feature selection"
      ]
    },
    {
      "cell_type": "code",
      "metadata": {
        "id": "727EdZzZBt_n",
        "colab_type": "code",
        "outputId": "5f0b264d-f80a-4508-f498-886064f6c7ad",
        "colab": {
          "base_uri": "https://localhost:8080/",
          "height": 1000
        }
      },
      "source": [
        "from sklearn.preprocessing import StandardScaler\n",
        "from sklearn.decomposition import PCA\n",
        "\n",
        "feature_names = df.columns.values\n",
        "for i in range(len(feature_names), 1, -1):\n",
        "  #PCA is effected by scale so we scale the features to a unit vector\n",
        "  data_scaled = StandardScaler().fit_transform(df.values)\n",
        "  \n",
        "  pca = PCA(n_components=i-1)\n",
        "  principalComponents = pca.fit_transform(data_scaled)\n",
        "  print(\"PCA %d \" % (i-1), end='')\n",
        "  test_model_multi(LogisticRegression(solver='lbfgs',multi_class='multinomial'), principalComponents, originalclass.values)"
      ],
      "execution_count": 0,
      "outputs": [
        {
          "output_type": "stream",
          "text": [
            "PCA 278 avg f1-score=0.64\n",
            "PCA 277 avg f1-score=0.64\n",
            "PCA 276 avg f1-score=0.64\n",
            "PCA 275 avg f1-score=0.64\n",
            "PCA 274 avg f1-score=0.64\n",
            "PCA 273 avg f1-score=0.64\n",
            "PCA 272 avg f1-score=0.64\n",
            "PCA 271 avg f1-score=0.64\n",
            "PCA 270 avg f1-score=0.64\n",
            "PCA 269 avg f1-score=0.64\n",
            "PCA 268 avg f1-score=0.64\n",
            "PCA 267 avg f1-score=0.64\n",
            "PCA 266 avg f1-score=0.64\n",
            "PCA 265 avg f1-score=0.64\n",
            "PCA 264 avg f1-score=0.64\n",
            "PCA 263 avg f1-score=0.64\n",
            "PCA 262 avg f1-score=0.64\n",
            "PCA 261 avg f1-score=0.64\n",
            "PCA 260 avg f1-score=0.64\n",
            "PCA 259 avg f1-score=0.64\n",
            "PCA 258 avg f1-score=0.64\n",
            "PCA 257 avg f1-score=0.64\n",
            "PCA 256 avg f1-score=0.64\n",
            "PCA 255 avg f1-score=0.64\n",
            "PCA 254 avg f1-score=0.64\n",
            "PCA 253 avg f1-score=0.64\n",
            "PCA 252 avg f1-score=0.64\n",
            "PCA 251 avg f1-score=0.64\n",
            "PCA 250 avg f1-score=0.64\n",
            "PCA 249 avg f1-score=0.64\n",
            "PCA 248 avg f1-score=0.64\n",
            "PCA 247 avg f1-score=0.64\n",
            "PCA 246 avg f1-score=0.64\n",
            "PCA 245 avg f1-score=0.64\n",
            "PCA 244 avg f1-score=0.64\n",
            "PCA 243 avg f1-score=0.64\n",
            "PCA 242 avg f1-score=0.64\n",
            "PCA 241 avg f1-score=0.64\n",
            "PCA 240 avg f1-score=0.64\n",
            "PCA 239 avg f1-score=0.64\n",
            "PCA 238 avg f1-score=0.64\n",
            "PCA 237 avg f1-score=0.64\n",
            "PCA 236 avg f1-score=0.64\n",
            "PCA 235 avg f1-score=0.64\n",
            "PCA 234 avg f1-score=0.64\n",
            "PCA 233 avg f1-score=0.64\n",
            "PCA 232 avg f1-score=0.64\n",
            "PCA 231 avg f1-score=0.64\n",
            "PCA 230 avg f1-score=0.64\n",
            "PCA 229 avg f1-score=0.64\n",
            "PCA 228 avg f1-score=0.64\n",
            "PCA 227 avg f1-score=0.64\n",
            "PCA 226 avg f1-score=0.64\n",
            "PCA 225 avg f1-score=0.64\n",
            "PCA 224 avg f1-score=0.64\n",
            "PCA 223 avg f1-score=0.64\n",
            "PCA 222 avg f1-score=0.64\n",
            "PCA 221 avg f1-score=0.64\n",
            "PCA 220 avg f1-score=0.64\n",
            "PCA 219 avg f1-score=0.64\n",
            "PCA 218 avg f1-score=0.64\n",
            "PCA 217 avg f1-score=0.64\n",
            "PCA 216 avg f1-score=0.64\n",
            "PCA 215 avg f1-score=0.64\n",
            "PCA 214 avg f1-score=0.64\n",
            "PCA 213 avg f1-score=0.64\n",
            "PCA 212 avg f1-score=0.64\n",
            "PCA 211 avg f1-score=0.64\n",
            "PCA 210 avg f1-score=0.64\n",
            "PCA 209 avg f1-score=0.64\n",
            "PCA 208 avg f1-score=0.64\n",
            "PCA 207 avg f1-score=0.64\n",
            "PCA 206 avg f1-score=0.64\n",
            "PCA 205 avg f1-score=0.64\n",
            "PCA 204 avg f1-score=0.64\n",
            "PCA 203 avg f1-score=0.64\n",
            "PCA 202 avg f1-score=0.64\n",
            "PCA 201 avg f1-score=0.64\n",
            "PCA 200 avg f1-score=0.64\n",
            "PCA 199 avg f1-score=0.64\n",
            "PCA 198 avg f1-score=0.64\n",
            "PCA 197 avg f1-score=0.64\n",
            "PCA 196 avg f1-score=0.64\n",
            "PCA 195 avg f1-score=0.64\n",
            "PCA 194 avg f1-score=0.64\n",
            "PCA 193 avg f1-score=0.64\n",
            "PCA 192 avg f1-score=0.64\n",
            "PCA 191 avg f1-score=0.64\n",
            "PCA 190 avg f1-score=0.64\n",
            "PCA 189 avg f1-score=0.64\n",
            "PCA 188 avg f1-score=0.64\n",
            "PCA 187 avg f1-score=0.64\n",
            "PCA 186 avg f1-score=0.64\n",
            "PCA 185 avg f1-score=0.64\n",
            "PCA 184 avg f1-score=0.64\n",
            "PCA 183 avg f1-score=0.63\n",
            "PCA 182 avg f1-score=0.64\n",
            "PCA 181 avg f1-score=0.63\n",
            "PCA 180 avg f1-score=0.63\n",
            "PCA 179 avg f1-score=0.63\n",
            "PCA 178 avg f1-score=0.63\n",
            "PCA 177 avg f1-score=0.63\n",
            "PCA 176 avg f1-score=0.63\n",
            "PCA 175 avg f1-score=0.63\n",
            "PCA 174 avg f1-score=0.63\n",
            "PCA 173 avg f1-score=0.63\n",
            "PCA 172 avg f1-score=0.63\n",
            "PCA 171 avg f1-score=0.63\n",
            "PCA 170 avg f1-score=0.63\n",
            "PCA 169 avg f1-score=0.63\n",
            "PCA 168 avg f1-score=0.63\n",
            "PCA 167 avg f1-score=0.63\n",
            "PCA 166 avg f1-score=0.63\n",
            "PCA 165 avg f1-score=0.63\n",
            "PCA 164 avg f1-score=0.63\n",
            "PCA 163 avg f1-score=0.63\n",
            "PCA 162 avg f1-score=0.63\n",
            "PCA 161 avg f1-score=0.63\n",
            "PCA 160 avg f1-score=0.63\n",
            "PCA 159 avg f1-score=0.63\n",
            "PCA 158 avg f1-score=0.62\n",
            "PCA 157 avg f1-score=0.63\n",
            "PCA 156 avg f1-score=0.63\n",
            "PCA 155 avg f1-score=0.63\n",
            "PCA 154 avg f1-score=0.63\n",
            "PCA 153 avg f1-score=0.63\n",
            "PCA 152 avg f1-score=0.63\n",
            "PCA 151 avg f1-score=0.63\n",
            "PCA 150 avg f1-score=0.63\n",
            "PCA 149 avg f1-score=0.63\n",
            "PCA 148 avg f1-score=0.63\n",
            "PCA 147 avg f1-score=0.63\n",
            "PCA 146 avg f1-score=0.64\n",
            "PCA 145 avg f1-score=0.64\n",
            "PCA 144 avg f1-score=0.63\n",
            "PCA 143 avg f1-score=0.63\n",
            "PCA 142 avg f1-score=0.63\n",
            "PCA 141 avg f1-score=0.62\n",
            "PCA 140 avg f1-score=0.62\n",
            "PCA 139 avg f1-score=0.62\n",
            "PCA 138 avg f1-score=0.62\n",
            "PCA 137 avg f1-score=0.62\n",
            "PCA 136 avg f1-score=0.63\n",
            "PCA 135 avg f1-score=0.62\n",
            "PCA 134 avg f1-score=0.62\n",
            "PCA 133 avg f1-score=0.62\n",
            "PCA 132 avg f1-score=0.62\n",
            "PCA 131 avg f1-score=0.62\n",
            "PCA 130 avg f1-score=0.62\n",
            "PCA 129 avg f1-score=0.62\n",
            "PCA 128 avg f1-score=0.61\n",
            "PCA 127 avg f1-score=0.61\n",
            "PCA 126 avg f1-score=0.61\n",
            "PCA 125 avg f1-score=0.61\n",
            "PCA 124 avg f1-score=0.61\n",
            "PCA 123 avg f1-score=0.61\n",
            "PCA 122 avg f1-score=0.61\n",
            "PCA 121 avg f1-score=0.61\n",
            "PCA 120 avg f1-score=0.60\n",
            "PCA 119 avg f1-score=0.61\n",
            "PCA 118 avg f1-score=0.61\n",
            "PCA 117 avg f1-score=0.61\n",
            "PCA 116 avg f1-score=0.61\n",
            "PCA 115 avg f1-score=0.62\n",
            "PCA 114 avg f1-score=0.61\n",
            "PCA 113 avg f1-score=0.60\n",
            "PCA 112 avg f1-score=0.60\n",
            "PCA 111 avg f1-score=0.62\n",
            "PCA 110 avg f1-score=0.61\n",
            "PCA 109 avg f1-score=0.61\n",
            "PCA 108 avg f1-score=0.62\n",
            "PCA 107 avg f1-score=0.62\n",
            "PCA 106 avg f1-score=0.63\n",
            "PCA 105 avg f1-score=0.62\n",
            "PCA 104 avg f1-score=0.62\n",
            "PCA 103 avg f1-score=0.62\n",
            "PCA 102 avg f1-score=0.62\n",
            "PCA 101 avg f1-score=0.62\n",
            "PCA 100 avg f1-score=0.63\n",
            "PCA 99 avg f1-score=0.63\n",
            "PCA 98 avg f1-score=0.62\n",
            "PCA 97 avg f1-score=0.63\n",
            "PCA 96 avg f1-score=0.62\n",
            "PCA 95 avg f1-score=0.62\n",
            "PCA 94 avg f1-score=0.61\n",
            "PCA 93 avg f1-score=0.61\n",
            "PCA 92 avg f1-score=0.61\n",
            "PCA 91 avg f1-score=0.61\n",
            "PCA 90 avg f1-score=0.61\n",
            "PCA 89 avg f1-score=0.61\n",
            "PCA 88 avg f1-score=0.61\n",
            "PCA 87 avg f1-score=0.61\n",
            "PCA 86 avg f1-score=0.61\n",
            "PCA 85 avg f1-score=0.61\n",
            "PCA 84 avg f1-score=0.61\n",
            "PCA 83 avg f1-score=0.61\n",
            "PCA 82 avg f1-score=0.62\n",
            "PCA 81 avg f1-score=0.62\n",
            "PCA 80 avg f1-score=0.61\n",
            "PCA 79 avg f1-score=0.62\n",
            "PCA 78 avg f1-score=0.62\n",
            "PCA 77 avg f1-score=0.62\n",
            "PCA 76 avg f1-score=0.63\n",
            "PCA 75 avg f1-score=0.63\n",
            "PCA 74 avg f1-score=0.63\n",
            "PCA 73 avg f1-score=0.63\n",
            "PCA 72 avg f1-score=0.62\n",
            "PCA 71 avg f1-score=0.61\n",
            "PCA 70 avg f1-score=0.61\n",
            "PCA 69 avg f1-score=0.62\n",
            "PCA 68 avg f1-score=0.62\n",
            "PCA 67 avg f1-score=0.61\n",
            "PCA 66 avg f1-score=0.61\n",
            "PCA 65 avg f1-score=0.61\n",
            "PCA 64 avg f1-score=0.61\n",
            "PCA 63 avg f1-score=0.61\n",
            "PCA 62 avg f1-score=0.62\n",
            "PCA 61 avg f1-score=0.62\n",
            "PCA 60 avg f1-score=0.62\n",
            "PCA 59 avg f1-score=0.61\n",
            "PCA 58 avg f1-score=0.62\n",
            "PCA 57 avg f1-score=0.61\n",
            "PCA 56 avg f1-score=0.62\n",
            "PCA 55 avg f1-score=0.62\n",
            "PCA 54 avg f1-score=0.61\n",
            "PCA 53 avg f1-score=0.63\n",
            "PCA 52 avg f1-score=0.62\n",
            "PCA 51 avg f1-score=0.63\n",
            "PCA 50 avg f1-score=0.63\n",
            "PCA 49 avg f1-score=0.64\n",
            "PCA 48 avg f1-score=0.64\n",
            "PCA 47 avg f1-score=0.64\n",
            "PCA 46 avg f1-score=0.63\n",
            "PCA 45 avg f1-score=0.62\n",
            "PCA 44 avg f1-score=0.63\n",
            "PCA 43 avg f1-score=0.62\n",
            "PCA 42 avg f1-score=0.62\n",
            "PCA 41 avg f1-score=0.62\n",
            "PCA 40 avg f1-score=0.63\n",
            "PCA 39 avg f1-score=0.63\n",
            "PCA 38 avg f1-score=0.63\n",
            "PCA 37 avg f1-score=0.63\n",
            "PCA 36 avg f1-score=0.62\n",
            "PCA 35 avg f1-score=0.63\n",
            "PCA 34 avg f1-score=0.63\n",
            "PCA 33 avg f1-score=0.61\n",
            "PCA 32 avg f1-score=0.61\n",
            "PCA 31 avg f1-score=0.61\n",
            "PCA 30 avg f1-score=0.61\n",
            "PCA 29 avg f1-score=0.63\n",
            "PCA 28 avg f1-score=0.63\n",
            "PCA 27 avg f1-score=0.63\n",
            "PCA 26 avg f1-score=0.62\n",
            "PCA 25 avg f1-score=0.63\n",
            "PCA 24 avg f1-score=0.63\n",
            "PCA 23 avg f1-score=0.63\n",
            "PCA 22 avg f1-score=0.63\n",
            "PCA 21 avg f1-score=0.63\n",
            "PCA 20 avg f1-score=0.63\n",
            "PCA 19 avg f1-score=0.63\n",
            "PCA 18 avg f1-score=0.63\n",
            "PCA 17 avg f1-score=0.63\n",
            "PCA 16 avg f1-score=0.63\n",
            "PCA 15 avg f1-score=0.64\n",
            "PCA 14 avg f1-score=0.65\n",
            "PCA 13 avg f1-score=0.64\n",
            "PCA 12 avg f1-score=0.65\n",
            "PCA 11 avg f1-score=0.67\n",
            "PCA 10 avg f1-score=0.65\n",
            "PCA 9 avg f1-score=0.66\n",
            "PCA 8 avg f1-score=0.67\n",
            "PCA 7 avg f1-score=0.66\n",
            "PCA 6 avg f1-score=0.62\n",
            "PCA 5 avg f1-score=0.61\n",
            "PCA 4 avg f1-score=0.57\n",
            "PCA 3 avg f1-score=0.53\n",
            "PCA 2 avg f1-score=0.49\n",
            "PCA 1 avg f1-score=0.41\n"
          ],
          "name": "stdout"
        }
      ]
    },
    {
      "cell_type": "markdown",
      "metadata": {
        "id": "FpU6klMYIfwX",
        "colab_type": "text"
      },
      "source": [
        "PCA 8 avg f1-score=0.67;\n",
        "PCA 11 avg f1-score=0.67\n"
      ]
    },
    {
      "cell_type": "code",
      "metadata": {
        "colab_type": "code",
        "id": "MlQkxmF5AVVt",
        "colab": {}
      },
      "source": [
        "# Choose first 20 principle components\n",
        "data_scaled = StandardScaler().fit_transform(df.values)\n",
        "pca = PCA(n_components=8)\n",
        "principalComponents = pca.fit_transform(data_scaled)"
      ],
      "execution_count": 0,
      "outputs": []
    },
    {
      "cell_type": "markdown",
      "metadata": {
        "id": "kYiuYvKoD3Y2",
        "colab_type": "text"
      },
      "source": [
        "### Logistic regression"
      ]
    },
    {
      "cell_type": "code",
      "metadata": {
        "id": "FGPrapZxAXnP",
        "colab_type": "code",
        "outputId": "3fa4a27e-fb85-4868-cd7f-4efdc0e65646",
        "colab": {
          "base_uri": "https://localhost:8080/",
          "height": 34
        }
      },
      "source": [
        "logi_model = LogisticRegression(solver='lbfgs',multi_class='multinomial')\n",
        "test_model_multi(logi_model, principalComponents, originalclass.values)"
      ],
      "execution_count": 0,
      "outputs": [
        {
          "output_type": "stream",
          "text": [
            "avg f1-score=0.67\n"
          ],
          "name": "stdout"
        }
      ]
    },
    {
      "cell_type": "markdown",
      "metadata": {
        "id": "cvSSNwzkD5yD",
        "colab_type": "text"
      },
      "source": [
        "### K Nearest Neighbors"
      ]
    },
    {
      "cell_type": "code",
      "metadata": {
        "id": "OhlGKFfwD_4l",
        "colab_type": "code",
        "outputId": "d9ef0561-dc8f-4685-808b-eb803907c2f7",
        "colab": {
          "base_uri": "https://localhost:8080/",
          "height": 34
        }
      },
      "source": [
        "knn_model = neighbors.KNeighborsClassifier()\n",
        "test_model_multi(knn_model, principalComponents, originalclass.values)"
      ],
      "execution_count": 0,
      "outputs": [
        {
          "output_type": "stream",
          "text": [
            "avg f1-score=0.57\n"
          ],
          "name": "stdout"
        }
      ]
    },
    {
      "cell_type": "markdown",
      "metadata": {
        "id": "AYKWYLl9D9la",
        "colab_type": "text"
      },
      "source": [
        "### Support Vector Machine"
      ]
    },
    {
      "cell_type": "code",
      "metadata": {
        "id": "gN8bgltPAY0n",
        "colab_type": "code",
        "outputId": "1ba5276a-2ebd-4eca-cf97-8b6876121868",
        "colab": {
          "base_uri": "https://localhost:8080/",
          "height": 34
        }
      },
      "source": [
        "svm_model = svm.SVC(kernel='linear',probability=True)\n",
        "test_model_multi(svm_model, principalComponents, originalclass.values)"
      ],
      "execution_count": 0,
      "outputs": [
        {
          "output_type": "stream",
          "text": [
            "avg f1-score=0.65\n"
          ],
          "name": "stdout"
        }
      ]
    },
    {
      "cell_type": "markdown",
      "metadata": {
        "id": "yVByxtNbELl0",
        "colab_type": "text"
      },
      "source": [
        "### Tree-based Models"
      ]
    },
    {
      "cell_type": "markdown",
      "metadata": {
        "id": "4M49WiD_JK_B",
        "colab_type": "text"
      },
      "source": [
        "#### Hyperparameter Tuning"
      ]
    },
    {
      "cell_type": "code",
      "metadata": {
        "id": "-3B_6JH_JPDJ",
        "colab_type": "code",
        "colab": {}
      },
      "source": [
        "from sklearn.model_selection import GridSearchCV\n",
        "# First I will define two functions to help me get the optimized estimator parameters and the importance of features\n",
        "\n",
        "def show_optimized_parameters(model, params, x_train, y_train):\n",
        "    \"\"\"function that takes a model, a dictionary of parameters of tree model, and traing x and y as parameters and \n",
        "    print the optimized parameters\n",
        "    \"\"\"\n",
        "    grid = GridSearchCV(model, params)\n",
        "    grid.fit(x_train, y_train)\n",
        "    print(grid.best_estimator_)"
      ],
      "execution_count": 0,
      "outputs": []
    },
    {
      "cell_type": "markdown",
      "metadata": {
        "id": "xzM2wsHWEP2j",
        "colab_type": "text"
      },
      "source": [
        "#### Decision Tree"
      ]
    },
    {
      "cell_type": "code",
      "metadata": {
        "id": "yPTyLJGiEO1Y",
        "colab_type": "code",
        "outputId": "882d28e9-b3cb-45cb-cf4c-772ea4178a4c",
        "colab": {
          "base_uri": "https://localhost:8080/",
          "height": 119
        }
      },
      "source": [
        "# Exploring the optimized parameters for the tree\n",
        "Tree = tree.DecisionTreeClassifier()\n",
        "params = {\"max_depth\":np.arange(2,50)\n",
        "              }\n",
        "show_optimized_parameters(Tree, params, principalComponents, originalclass.values)"
      ],
      "execution_count": 0,
      "outputs": [
        {
          "output_type": "stream",
          "text": [
            "DecisionTreeClassifier(class_weight=None, criterion='gini', max_depth=7,\n",
            "                       max_features=None, max_leaf_nodes=None,\n",
            "                       min_impurity_decrease=0.0, min_impurity_split=None,\n",
            "                       min_samples_leaf=1, min_samples_split=2,\n",
            "                       min_weight_fraction_leaf=0.0, presort=False,\n",
            "                       random_state=None, splitter='best')\n"
          ],
          "name": "stdout"
        }
      ]
    },
    {
      "cell_type": "code",
      "metadata": {
        "id": "3UI-ZfjHJZyP",
        "colab_type": "code",
        "outputId": "321f7c6d-95de-487c-993b-6f9f448533a5",
        "colab": {
          "base_uri": "https://localhost:8080/",
          "height": 34
        }
      },
      "source": [
        "# Decision tree with optimized parameters\n",
        "tree_model = tree.DecisionTreeClassifier(max_depth=7)\n",
        "test_model_multi(tree_model, principalComponents, originalclass.values)"
      ],
      "execution_count": 0,
      "outputs": [
        {
          "output_type": "stream",
          "text": [
            "avg f1-score=0.55\n"
          ],
          "name": "stdout"
        }
      ]
    },
    {
      "cell_type": "markdown",
      "metadata": {
        "id": "7z-B5UsoEULH",
        "colab_type": "text"
      },
      "source": [
        "#### Random Forest"
      ]
    },
    {
      "cell_type": "code",
      "metadata": {
        "id": "nvwFxvZ7EWJo",
        "colab_type": "code",
        "outputId": "02c4ad46-5035-46ca-e5cb-7e6fdb060f97",
        "colab": {
          "base_uri": "https://localhost:8080/",
          "height": 136
        }
      },
      "source": [
        "# Exploring the optimized parameters for the random forest\n",
        "from sklearn.ensemble import RandomForestClassifier\n",
        "RF = ensemble.RandomForestClassifier()\n",
        "params = {\"max_depth\":np.arange(2,50),\n",
        "              }\n",
        "show_optimized_parameters(RF, params, principalComponents, originalclass.values)"
      ],
      "execution_count": 0,
      "outputs": [
        {
          "output_type": "stream",
          "text": [
            "RandomForestClassifier(bootstrap=True, class_weight=None, criterion='gini',\n",
            "                       max_depth=20, max_features='auto', max_leaf_nodes=None,\n",
            "                       min_impurity_decrease=0.0, min_impurity_split=None,\n",
            "                       min_samples_leaf=1, min_samples_split=2,\n",
            "                       min_weight_fraction_leaf=0.0, n_estimators=10,\n",
            "                       n_jobs=None, oob_score=False, random_state=None,\n",
            "                       verbose=0, warm_start=False)\n"
          ],
          "name": "stdout"
        }
      ]
    },
    {
      "cell_type": "code",
      "metadata": {
        "id": "9Xl2_vvKJn82",
        "colab_type": "code",
        "outputId": "2d4eded0-3be4-4c4b-9c75-ceb09d8b3b23",
        "colab": {
          "base_uri": "https://localhost:8080/",
          "height": 34
        }
      },
      "source": [
        "# Random Forests with optimized parameters\n",
        "rf_model = ensemble.RandomForestClassifier(max_depth=20, n_estimators=100)\n",
        "test_model_multi(rf_model, principalComponents, originalclass.values)"
      ],
      "execution_count": 0,
      "outputs": [
        {
          "output_type": "stream",
          "text": [
            "avg f1-score=0.62\n"
          ],
          "name": "stdout"
        }
      ]
    },
    {
      "cell_type": "markdown",
      "metadata": {
        "id": "T-3iDlQxEWoc",
        "colab_type": "text"
      },
      "source": [
        "#### Ada Boosting"
      ]
    },
    {
      "cell_type": "code",
      "metadata": {
        "id": "Z7wytCEeEZPk",
        "colab_type": "code",
        "outputId": "a084a1b5-968f-4b9f-f4a5-18782471a3fe",
        "colab": {
          "base_uri": "https://localhost:8080/",
          "height": 51
        }
      },
      "source": [
        "# Exploring the optimized parameters for the adaboost classifier\n",
        "from sklearn.ensemble import AdaBoostClassifier\n",
        "adaboost = AdaBoostClassifier()\n",
        "params = {\"n_estimators\":np.arange(10,100),\n",
        "          \"learning_rate\":(1, 0.01, 0.001)\n",
        "}\n",
        "show_optimized_parameters(adaboost, params, principalComponents, originalclass.values)"
      ],
      "execution_count": 0,
      "outputs": [
        {
          "output_type": "stream",
          "text": [
            "AdaBoostClassifier(algorithm='SAMME.R', base_estimator=None, learning_rate=1,\n",
            "                   n_estimators=10, random_state=None)\n"
          ],
          "name": "stdout"
        }
      ]
    },
    {
      "cell_type": "code",
      "metadata": {
        "id": "CVkH0XeYJ2l5",
        "colab_type": "code",
        "outputId": "91b1f89b-1f10-4396-ab5f-8e8be27ebb9d",
        "colab": {
          "base_uri": "https://localhost:8080/",
          "height": 34
        }
      },
      "source": [
        "# Ada Boosting with features selected\n",
        "ada_model = AdaBoostClassifier(n_estimators=10, learning_rate=1)\n",
        "test_model_multi(ada_model, principalComponents, originalclass.values)"
      ],
      "execution_count": 0,
      "outputs": [
        {
          "output_type": "stream",
          "text": [
            "avg f1-score=0.44\n"
          ],
          "name": "stdout"
        }
      ]
    },
    {
      "cell_type": "markdown",
      "metadata": {
        "id": "WCobkK4_EZ84",
        "colab_type": "text"
      },
      "source": [
        "#### Gradient Boosting"
      ]
    },
    {
      "cell_type": "code",
      "metadata": {
        "id": "Zk9EC_KgEcoy",
        "colab_type": "code",
        "outputId": "125ee53b-559b-4825-e0b2-a3b916f87ae1",
        "colab": {
          "base_uri": "https://localhost:8080/",
          "height": 187
        }
      },
      "source": [
        "# Exploring the optimized parameters for the gradient boost classifier\n",
        "from sklearn.ensemble import GradientBoostingClassifier\n",
        "gb = GradientBoostingClassifier()\n",
        "params = {\"n_estimators\":np.arange(10,100),\n",
        "               \"learning_rate\":(1, 0.01, 0.001)\n",
        "}\n",
        "show_optimized_parameters(gb, params, principalComponents, originalclass.values)"
      ],
      "execution_count": 0,
      "outputs": [
        {
          "output_type": "stream",
          "text": [
            "GradientBoostingClassifier(criterion='friedman_mse', init=None,\n",
            "                           learning_rate=0.01, loss='deviance', max_depth=3,\n",
            "                           max_features=None, max_leaf_nodes=None,\n",
            "                           min_impurity_decrease=0.0, min_impurity_split=None,\n",
            "                           min_samples_leaf=1, min_samples_split=2,\n",
            "                           min_weight_fraction_leaf=0.0, n_estimators=62,\n",
            "                           n_iter_no_change=None, presort='auto',\n",
            "                           random_state=None, subsample=1.0, tol=0.0001,\n",
            "                           validation_fraction=0.1, verbose=0,\n",
            "                           warm_start=False)\n"
          ],
          "name": "stdout"
        }
      ]
    },
    {
      "cell_type": "code",
      "metadata": {
        "id": "l9HQVdbPJ85l",
        "colab_type": "code",
        "outputId": "dc689360-df91-4d13-f999-87ac66e3ad64",
        "colab": {
          "base_uri": "https://localhost:8080/",
          "height": 34
        }
      },
      "source": [
        "#Call training model, B=62, λ=0.01，d=1\n",
        "gb_model = GradientBoostingClassifier(n_estimators=62, learning_rate=0.01)\n",
        "test_model_multi(gb_model, principalComponents, originalclass.values)"
      ],
      "execution_count": 0,
      "outputs": [
        {
          "output_type": "stream",
          "text": [
            "avg f1-score=0.55\n"
          ],
          "name": "stdout"
        }
      ]
    }
  ]
}