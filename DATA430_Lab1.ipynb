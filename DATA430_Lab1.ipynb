{
  "nbformat": 4,
  "nbformat_minor": 0,
  "metadata": {
    "colab": {
      "name": "DATA430 Lab1.ipynb",
      "version": "0.3.2",
      "provenance": [],
      "collapsed_sections": []
    },
    "kernelspec": {
      "name": "python3",
      "display_name": "Python 3"
    }
  },
  "cells": [
    {
      "cell_type": "markdown",
      "metadata": {
        "id": "zwmGzGMSNgbK",
        "colab_type": "text"
      },
      "source": [
        "# Problem 2"
      ]
    },
    {
      "cell_type": "markdown",
      "metadata": {
        "id": "7moXqm2-TI5n",
        "colab_type": "text"
      },
      "source": [
        "## 1.3.5.1 Q1"
      ]
    },
    {
      "cell_type": "code",
      "metadata": {
        "id": "CWyaDO_RNjtl",
        "colab_type": "code",
        "outputId": "d875e50e-9a42-4ac8-acef-4eefe327a0ea",
        "colab": {
          "base_uri": "https://localhost:8080/",
          "height": 102
        }
      },
      "source": [
        "import numpy as np\n",
        "a = np.arange(1,12,5) + np.arange(5)[:, np.newaxis]\n",
        "a\n"
      ],
      "execution_count": 1,
      "outputs": [
        {
          "output_type": "execute_result",
          "data": {
            "text/plain": [
              "array([[ 1,  6, 11],\n",
              "       [ 2,  7, 12],\n",
              "       [ 3,  8, 13],\n",
              "       [ 4,  9, 14],\n",
              "       [ 5, 10, 15]])"
            ]
          },
          "metadata": {
            "tags": []
          },
          "execution_count": 1
        }
      ]
    },
    {
      "cell_type": "code",
      "metadata": {
        "id": "_nHU_0i-Su5o",
        "colab_type": "code",
        "outputId": "ee0c1784-a69d-4551-aebd-2ce6d9bacab7",
        "colab": {
          "base_uri": "https://localhost:8080/",
          "height": 51
        }
      },
      "source": [
        "a[1::2,:]"
      ],
      "execution_count": 2,
      "outputs": [
        {
          "output_type": "execute_result",
          "data": {
            "text/plain": [
              "array([[ 2,  7, 12],\n",
              "       [ 4,  9, 14]])"
            ]
          },
          "metadata": {
            "tags": []
          },
          "execution_count": 2
        }
      ]
    },
    {
      "cell_type": "markdown",
      "metadata": {
        "id": "WVtLNeQiT3Dh",
        "colab_type": "text"
      },
      "source": [
        "## 1.3.5.1 Q2\n"
      ]
    },
    {
      "cell_type": "code",
      "metadata": {
        "id": "qELrYv9MSi6k",
        "colab_type": "code",
        "outputId": "fb5549f9-7114-4cfe-ebce-af74a60ba85d",
        "colab": {
          "base_uri": "https://localhost:8080/",
          "height": 102
        }
      },
      "source": [
        "a = np.arange(25).reshape(5, 5)\n",
        "a"
      ],
      "execution_count": 3,
      "outputs": [
        {
          "output_type": "execute_result",
          "data": {
            "text/plain": [
              "array([[ 0,  1,  2,  3,  4],\n",
              "       [ 5,  6,  7,  8,  9],\n",
              "       [10, 11, 12, 13, 14],\n",
              "       [15, 16, 17, 18, 19],\n",
              "       [20, 21, 22, 23, 24]])"
            ]
          },
          "metadata": {
            "tags": []
          },
          "execution_count": 3
        }
      ]
    },
    {
      "cell_type": "code",
      "metadata": {
        "id": "X17azRZfUVKr",
        "colab_type": "code",
        "outputId": "a36323ee-07e3-4d0d-8367-36c2e5013038",
        "colab": {
          "base_uri": "https://localhost:8080/",
          "height": 34
        }
      },
      "source": [
        "b = np.array([1., 5, 10, 15, 20])\n",
        "b"
      ],
      "execution_count": 4,
      "outputs": [
        {
          "output_type": "execute_result",
          "data": {
            "text/plain": [
              "array([ 1.,  5., 10., 15., 20.])"
            ]
          },
          "metadata": {
            "tags": []
          },
          "execution_count": 4
        }
      ]
    },
    {
      "cell_type": "code",
      "metadata": {
        "id": "pyi8TNFDUxHv",
        "colab_type": "code",
        "outputId": "dcbbbe03-028b-4522-b2dc-960e04dc4af0",
        "colab": {
          "base_uri": "https://localhost:8080/",
          "height": 102
        }
      },
      "source": [
        "a / b[:, np.newaxis]"
      ],
      "execution_count": 5,
      "outputs": [
        {
          "output_type": "execute_result",
          "data": {
            "text/plain": [
              "array([[0.        , 1.        , 2.        , 3.        , 4.        ],\n",
              "       [1.        , 1.2       , 1.4       , 1.6       , 1.8       ],\n",
              "       [1.        , 1.1       , 1.2       , 1.3       , 1.4       ],\n",
              "       [1.        , 1.06666667, 1.13333333, 1.2       , 1.26666667],\n",
              "       [1.        , 1.05      , 1.1       , 1.15      , 1.2       ]])"
            ]
          },
          "metadata": {
            "tags": []
          },
          "execution_count": 5
        }
      ]
    },
    {
      "cell_type": "markdown",
      "metadata": {
        "id": "vtmKYX2tUw9C",
        "colab_type": "text"
      },
      "source": [
        "## 1.3.5.1 Q3"
      ]
    },
    {
      "cell_type": "code",
      "metadata": {
        "id": "qDwSDjS8VK_T",
        "colab_type": "code",
        "outputId": "e3ec2116-534e-47a1-ae7d-ba357405676b",
        "colab": {
          "base_uri": "https://localhost:8080/",
          "height": 187
        }
      },
      "source": [
        "np.random.seed(1234)\n",
        "a = np.random.rand(30).reshape(10, 3)\n",
        "a"
      ],
      "execution_count": 6,
      "outputs": [
        {
          "output_type": "execute_result",
          "data": {
            "text/plain": [
              "array([[0.19151945, 0.62210877, 0.43772774],\n",
              "       [0.78535858, 0.77997581, 0.27259261],\n",
              "       [0.27646426, 0.80187218, 0.95813935],\n",
              "       [0.87593263, 0.35781727, 0.50099513],\n",
              "       [0.68346294, 0.71270203, 0.37025075],\n",
              "       [0.56119619, 0.50308317, 0.01376845],\n",
              "       [0.77282662, 0.88264119, 0.36488598],\n",
              "       [0.61539618, 0.07538124, 0.36882401],\n",
              "       [0.9331401 , 0.65137814, 0.39720258],\n",
              "       [0.78873014, 0.31683612, 0.56809865]])"
            ]
          },
          "metadata": {
            "tags": []
          },
          "execution_count": 6
        }
      ]
    },
    {
      "cell_type": "code",
      "metadata": {
        "id": "wZeofoGnZvkk",
        "colab_type": "code",
        "outputId": "ff1412c0-8692-4edd-ac5a-c866dcd8a315",
        "colab": {
          "base_uri": "https://localhost:8080/",
          "height": 187
        }
      },
      "source": [
        "b = a - 0.5\n",
        "b"
      ],
      "execution_count": 7,
      "outputs": [
        {
          "output_type": "execute_result",
          "data": {
            "text/plain": [
              "array([[-0.30848055,  0.12210877, -0.06227226],\n",
              "       [ 0.28535858,  0.27997581, -0.22740739],\n",
              "       [-0.22353574,  0.30187218,  0.45813935],\n",
              "       [ 0.37593263, -0.14218273,  0.00099513],\n",
              "       [ 0.18346294,  0.21270203, -0.12974925],\n",
              "       [ 0.06119619,  0.00308317, -0.48623155],\n",
              "       [ 0.27282662,  0.38264119, -0.13511402],\n",
              "       [ 0.11539618, -0.42461876, -0.13117599],\n",
              "       [ 0.4331401 ,  0.15137814, -0.10279742],\n",
              "       [ 0.28873014, -0.18316388,  0.06809865]])"
            ]
          },
          "metadata": {
            "tags": []
          },
          "execution_count": 7
        }
      ]
    },
    {
      "cell_type": "code",
      "metadata": {
        "id": "S-HTvbYGag3n",
        "colab_type": "code",
        "outputId": "942243fa-6f2c-45a3-ee05-fd3c9815e628",
        "colab": {
          "base_uri": "https://localhost:8080/",
          "height": 187
        }
      },
      "source": [
        "c = np.abs(b)\n",
        "c"
      ],
      "execution_count": 8,
      "outputs": [
        {
          "output_type": "execute_result",
          "data": {
            "text/plain": [
              "array([[0.30848055, 0.12210877, 0.06227226],\n",
              "       [0.28535858, 0.27997581, 0.22740739],\n",
              "       [0.22353574, 0.30187218, 0.45813935],\n",
              "       [0.37593263, 0.14218273, 0.00099513],\n",
              "       [0.18346294, 0.21270203, 0.12974925],\n",
              "       [0.06119619, 0.00308317, 0.48623155],\n",
              "       [0.27282662, 0.38264119, 0.13511402],\n",
              "       [0.11539618, 0.42461876, 0.13117599],\n",
              "       [0.4331401 , 0.15137814, 0.10279742],\n",
              "       [0.28873014, 0.18316388, 0.06809865]])"
            ]
          },
          "metadata": {
            "tags": []
          },
          "execution_count": 8
        }
      ]
    },
    {
      "cell_type": "code",
      "metadata": {
        "id": "uP7ju4PCaU5O",
        "colab_type": "code",
        "outputId": "6165fde4-8a84-4c66-a866-9a890d75b627",
        "colab": {
          "base_uri": "https://localhost:8080/",
          "height": 187
        }
      },
      "source": [
        "d = np.argsort(c)\n",
        "d"
      ],
      "execution_count": 9,
      "outputs": [
        {
          "output_type": "execute_result",
          "data": {
            "text/plain": [
              "array([[2, 1, 0],\n",
              "       [2, 1, 0],\n",
              "       [0, 1, 2],\n",
              "       [2, 1, 0],\n",
              "       [2, 0, 1],\n",
              "       [1, 0, 2],\n",
              "       [2, 0, 1],\n",
              "       [0, 2, 1],\n",
              "       [2, 1, 0],\n",
              "       [2, 1, 0]])"
            ]
          },
          "metadata": {
            "tags": []
          },
          "execution_count": 9
        }
      ]
    },
    {
      "cell_type": "code",
      "metadata": {
        "id": "gFvBUQCffSbQ",
        "colab_type": "code",
        "outputId": "66eb3b8b-f1aa-4f94-c915-1dc4ebbee8c1",
        "colab": {
          "base_uri": "https://localhost:8080/",
          "height": 51
        }
      },
      "source": [
        "# Indexing with an array of integers\n",
        "extract_from_a = a[np.arange(10), d[:, 0]]\n",
        "extract_from_a"
      ],
      "execution_count": 10,
      "outputs": [
        {
          "output_type": "execute_result",
          "data": {
            "text/plain": [
              "array([0.43772774, 0.27259261, 0.27646426, 0.50099513, 0.37025075,\n",
              "       0.50308317, 0.36488598, 0.61539618, 0.39720258, 0.56809865])"
            ]
          },
          "metadata": {
            "tags": []
          },
          "execution_count": 10
        }
      ]
    },
    {
      "cell_type": "code",
      "metadata": {
        "id": "D0194Wtjavzy",
        "colab_type": "code",
        "outputId": "4d538487-a603-4bca-8138-3cee83e74840",
        "colab": {
          "base_uri": "https://localhost:8080/",
          "height": 187
        }
      },
      "source": [
        "# fancy indexing using boolean masks\n",
        "mask = (d == 0)\n",
        "mask"
      ],
      "execution_count": 11,
      "outputs": [
        {
          "output_type": "execute_result",
          "data": {
            "text/plain": [
              "array([[False, False,  True],\n",
              "       [False, False,  True],\n",
              "       [ True, False, False],\n",
              "       [False, False,  True],\n",
              "       [False,  True, False],\n",
              "       [False,  True, False],\n",
              "       [False,  True, False],\n",
              "       [ True, False, False],\n",
              "       [False, False,  True],\n",
              "       [False, False,  True]])"
            ]
          },
          "metadata": {
            "tags": []
          },
          "execution_count": 11
        }
      ]
    },
    {
      "cell_type": "code",
      "metadata": {
        "id": "Gy82XUOwbosE",
        "colab_type": "code",
        "outputId": "dca2a19a-3a25-4465-e885-812caa5766a3",
        "colab": {
          "base_uri": "https://localhost:8080/",
          "height": 51
        }
      },
      "source": [
        "extract_from_a = a[mask]\n",
        "extract_from_a"
      ],
      "execution_count": 12,
      "outputs": [
        {
          "output_type": "execute_result",
          "data": {
            "text/plain": [
              "array([0.43772774, 0.27259261, 0.27646426, 0.50099513, 0.71270203,\n",
              "       0.50308317, 0.88264119, 0.61539618, 0.39720258, 0.56809865])"
            ]
          },
          "metadata": {
            "tags": []
          },
          "execution_count": 12
        }
      ]
    },
    {
      "cell_type": "markdown",
      "metadata": {
        "id": "qjDVYU0GgPwq",
        "colab_type": "text"
      },
      "source": [
        "# Problem 3"
      ]
    },
    {
      "cell_type": "code",
      "metadata": {
        "id": "3OKDnmgNgSTl",
        "colab_type": "code",
        "outputId": "48c0f0a3-4501-41af-c5aa-d478172edbb2",
        "colab": {
          "base_uri": "https://localhost:8080/",
          "height": 289
        }
      },
      "source": [
        "import numpy as np\n",
        "!wget http://www.scipy-lectures.org/_downloads/populations.txt\n",
        "data = np.loadtxt('populations.txt')\n",
        "year, hares, lynxes, carrots = data.T\n",
        "population = data[:,1:]"
      ],
      "execution_count": 13,
      "outputs": [
        {
          "output_type": "stream",
          "text": [
            "--2019-07-20 16:35:28--  http://www.scipy-lectures.org/_downloads/populations.txt\n",
            "Resolving www.scipy-lectures.org (www.scipy-lectures.org)... 217.70.184.50\n",
            "Connecting to www.scipy-lectures.org (www.scipy-lectures.org)|217.70.184.50|:80... connected.\n",
            "HTTP request sent, awaiting response... 301 Moved Permanently\n",
            "Location: http://scipy-lectures.org/_downloads/populations.txt [following]\n",
            "--2019-07-20 16:35:28--  http://scipy-lectures.org/_downloads/populations.txt\n",
            "Resolving scipy-lectures.org (scipy-lectures.org)... 185.199.110.153, 185.199.109.153, 185.199.108.153, ...\n",
            "Connecting to scipy-lectures.org (scipy-lectures.org)|185.199.110.153|:80... connected.\n",
            "HTTP request sent, awaiting response... 200 OK\n",
            "Length: 525 [text/plain]\n",
            "Saving to: ‘populations.txt.3’\n",
            "\n",
            "\rpopulations.txt.3     0%[                    ]       0  --.-KB/s               \rpopulations.txt.3   100%[===================>]     525  --.-KB/s    in 0s      \n",
            "\n",
            "2019-07-20 16:35:28 (79.5 MB/s) - ‘populations.txt.3’ saved [525/525]\n",
            "\n"
          ],
          "name": "stdout"
        }
      ]
    },
    {
      "cell_type": "markdown",
      "metadata": {
        "id": "IVJHMe9ZimZq",
        "colab_type": "text"
      },
      "source": [
        "## a. The median and 75th percentile of the populations of each species for the years in the period"
      ]
    },
    {
      "cell_type": "code",
      "metadata": {
        "id": "ESKtulvOhcPi",
        "colab_type": "code",
        "colab": {
          "base_uri": "https://localhost:8080/",
          "height": 68
        },
        "outputId": "7a069e93-9a6f-46d3-8701-d5bc556417d7"
      },
      "source": [
        "print(\"                 Hares, Lynxes, Carrots\")\n",
        "print(\"Median         \", np.percentile(population, 50, axis=0))\n",
        "print(\"75th Percentile\", np.percentile(population, 75, axis=0))"
      ],
      "execution_count": 14,
      "outputs": [
        {
          "output_type": "stream",
          "text": [
            "                 Hares, Lynxes, Carrots\n",
            "Median          [25400. 12300. 41800.]\n",
            "75th Percentile [47200. 29700. 44500.]\n"
          ],
          "name": "stdout"
        }
      ]
    },
    {
      "cell_type": "markdown",
      "metadata": {
        "id": "sVl4bay_oVsC",
        "colab_type": "text"
      },
      "source": [
        "## b. The histogram of hare population with bins [0, 25000, 50000, 100000]"
      ]
    },
    {
      "cell_type": "code",
      "metadata": {
        "id": "_QEkI2SnnGqe",
        "colab_type": "code",
        "colab": {
          "base_uri": "https://localhost:8080/",
          "height": 354
        },
        "outputId": "bc95db01-41ff-4fe7-d0d8-6838c8b97301"
      },
      "source": [
        "import matplotlib.pyplot as plt\n",
        "plt.hist(hares, bins=[0,25000,50000,100000])\n",
        "plt.xticks([0, 25000, 50000, 100000])"
      ],
      "execution_count": 15,
      "outputs": [
        {
          "output_type": "execute_result",
          "data": {
            "text/plain": [
              "([<matplotlib.axis.XTick at 0x7fd2ead1c518>,\n",
              "  <matplotlib.axis.XTick at 0x7fd2ead05e10>,\n",
              "  <matplotlib.axis.XTick at 0x7fd2ead05ba8>,\n",
              "  <matplotlib.axis.XTick at 0x7fd2ea8b0cf8>],\n",
              " <a list of 4 Text xticklabel objects>)"
            ]
          },
          "metadata": {
            "tags": []
          },
          "execution_count": 15
        },
        {
          "output_type": "display_data",
          "data": {
            "image/png": "[encoded data removed]",
            "text/plain": [
              "<Figure size 432x288 with 1 Axes>"
            ]
          },
          "metadata": {
            "tags": []
          }
        }
      ]
    },
    {
      "cell_type": "markdown",
      "metadata": {
        "id": "KUyuUkL3tuNh",
        "colab_type": "text"
      },
      "source": [
        "## c. Which years did the population of each species drop the most from the previous year?"
      ]
    },
    {
      "cell_type": "code",
      "metadata": {
        "id": "EmB4NC7XnW-t",
        "colab_type": "code",
        "colab": {
          "base_uri": "https://localhost:8080/",
          "height": 51
        },
        "outputId": "cb9353d0-276b-4fab-cab2-2aaa87088d87"
      },
      "source": [
        "population_grad = np.gradient(population, axis=0)\n",
        "mask = np.argsort(population_grad, axis=0)\n",
        "print(\"Hares, Lynxes, Carrots\")\n",
        "print(year[mask[0,:]])"
      ],
      "execution_count": 16,
      "outputs": [
        {
          "output_type": "stream",
          "text": [
            "Hares, Lynxes, Carrots\n",
            "[1914. 1905. 1902.]\n"
          ],
          "name": "stdout"
        }
      ]
    },
    {
      "cell_type": "markdown",
      "metadata": {
        "id": "LeNELbeEk0WC",
        "colab_type": "text"
      },
      "source": [
        "# Problem 4"
      ]
    },
    {
      "cell_type": "code",
      "metadata": {
        "id": "NuJ7v8oRlU1M",
        "colab_type": "code",
        "colab": {
          "base_uri": "https://localhost:8080/",
          "height": 921
        },
        "outputId": "c9cfac9c-028a-48bc-b50c-3f13e2767193"
      },
      "source": [
        "import sklearn.datasets\n",
        "data = sklearn.datasets.load_breast_cancer()\n",
        "data"
      ],
      "execution_count": 17,
      "outputs": [
        {
          "output_type": "execute_result",
          "data": {
            "text/plain": [
              "{'DESCR': '.. _breast_cancer_dataset:\\n\\nBreast cancer wisconsin (diagnostic) dataset\\n--------------------------------------------\\n\\n**Data Set Characteristics:**\\n\\n    :Number of Instances: 569\\n\\n    :Number of Attributes: 30 numeric, predictive attributes and the class\\n\\n    :Attribute Information:\\n        - radius (mean of distances from center to points on the perimeter)\\n        - texture (standard deviation of gray-scale values)\\n        - perimeter\\n        - area\\n        - smoothness (local variation in radius lengths)\\n        - compactness (perimeter^2 / area - 1.0)\\n        - concavity (severity of concave portions of the contour)\\n        - concave points (number of concave portions of the contour)\\n        - symmetry \\n        - fractal dimension (\"coastline approximation\" - 1)\\n\\n        The mean, standard error, and \"worst\" or largest (mean of the three\\n        largest values) of these features were computed for each image,\\n        resulting in 30 features.  For instance, field 3 is Mean Radius, field\\n        13 is Radius SE, field 23 is Worst Radius.\\n\\n        - class:\\n                - WDBC-Malignant\\n                - WDBC-Benign\\n\\n    :Summary Statistics:\\n\\n    ===================================== ====== ======\\n                                           Min    Max\\n    ===================================== ====== ======\\n    radius (mean):                        6.981  28.11\\n    texture (mean):                       9.71   39.28\\n    perimeter (mean):                     43.79  188.5\\n    area (mean):                          143.5  2501.0\\n    smoothness (mean):                    0.053  0.163\\n    compactness (mean):                   0.019  0.345\\n    concavity (mean):                     0.0    0.427\\n    concave points (mean):                0.0    0.201\\n    symmetry (mean):                      0.106  0.304\\n    fractal dimension (mean):             0.05   0.097\\n    radius (standard error):              0.112  2.873\\n    texture (standard error):             0.36   4.885\\n    perimeter (standard error):           0.757  21.98\\n    area (standard error):                6.802  542.2\\n    smoothness (standard error):          0.002  0.031\\n    compactness (standard error):         0.002  0.135\\n    concavity (standard error):           0.0    0.396\\n    concave points (standard error):      0.0    0.053\\n    symmetry (standard error):            0.008  0.079\\n    fractal dimension (standard error):   0.001  0.03\\n    radius (worst):                       7.93   36.04\\n    texture (worst):                      12.02  49.54\\n    perimeter (worst):                    50.41  251.2\\n    area (worst):                         185.2  4254.0\\n    smoothness (worst):                   0.071  0.223\\n    compactness (worst):                  0.027  1.058\\n    concavity (worst):                    0.0    1.252\\n    concave points (worst):               0.0    0.291\\n    symmetry (worst):                     0.156  0.664\\n    fractal dimension (worst):            0.055  0.208\\n    ===================================== ====== ======\\n\\n    :Missing Attribute Values: None\\n\\n    :Class Distribution: 212 - Malignant, 357 - Benign\\n\\n    :Creator:  Dr. William H. Wolberg, W. Nick Street, Olvi L. Mangasarian\\n\\n    :Donor: Nick Street\\n\\n    :Date: November, 1995\\n\\nThis is a copy of UCI ML Breast Cancer Wisconsin (Diagnostic) datasets.\\nhttps://goo.gl/U2Uwz2\\n\\nFeatures are computed from a digitized image of a fine needle\\naspirate (FNA) of a breast mass.  They describe\\ncharacteristics of the cell nuclei present in the image.\\n\\nSeparating plane described above was obtained using\\nMultisurface Method-Tree (MSM-T) [K. P. Bennett, \"Decision Tree\\nConstruction Via Linear Programming.\" Proceedings of the 4th\\nMidwest Artificial Intelligence and Cognitive Science Society,\\npp. 97-101, 1992], a classification method which uses linear\\nprogramming to construct a decision tree.  Relevant features\\nwere selected using an exhaustive search in the space of 1-4\\nfeatures and 1-3 separating planes.\\n\\nThe actual linear program used to obtain the separating plane\\nin the 3-dimensional space is that described in:\\n[K. P. Bennett and O. L. Mangasarian: \"Robust Linear\\nProgramming Discrimination of Two Linearly Inseparable Sets\",\\nOptimization Methods and Software 1, 1992, 23-34].\\n\\nThis database is also available through the UW CS ftp server:\\n\\nftp ftp.cs.wisc.edu\\ncd math-prog/cpo-dataset/machine-learn/WDBC/\\n\\n.. topic:: References\\n\\n   - W.N. Street, W.H. Wolberg and O.L. Mangasarian. Nuclear feature extraction \\n     for breast tumor diagnosis. IS&T/SPIE 1993 International Symposium on \\n     Electronic Imaging: Science and Technology, volume 1905, pages 861-870,\\n     San Jose, CA, 1993.\\n   - O.L. Mangasarian, W.N. Street and W.H. Wolberg. Breast cancer diagnosis and \\n     prognosis via linear programming. Operations Research, 43(4), pages 570-577, \\n     July-August 1995.\\n   - W.H. Wolberg, W.N. Street, and O.L. Mangasarian. Machine learning techniques\\n     to diagnose breast cancer from fine-needle aspirates. Cancer Letters 77 (1994) \\n     163-171.',\n",
              " 'data': array([[1.799e+01, 1.038e+01, 1.228e+02, ..., 2.654e-01, 4.601e-01,\n",
              "         1.189e-01],\n",
              "        [2.057e+01, 1.777e+01, 1.329e+02, ..., 1.860e-01, 2.750e-01,\n",
              "         8.902e-02],\n",
              "        [1.969e+01, 2.125e+01, 1.300e+02, ..., 2.430e-01, 3.613e-01,\n",
              "         8.758e-02],\n",
              "        ...,\n",
              "        [1.660e+01, 2.808e+01, 1.083e+02, ..., 1.418e-01, 2.218e-01,\n",
              "         7.820e-02],\n",
              "        [2.060e+01, 2.933e+01, 1.401e+02, ..., 2.650e-01, 4.087e-01,\n",
              "         1.240e-01],\n",
              "        [7.760e+00, 2.454e+01, 4.792e+01, ..., 0.000e+00, 2.871e-01,\n",
              "         7.039e-02]]),\n",
              " 'feature_names': array(['mean radius', 'mean texture', 'mean perimeter', 'mean area',\n",
              "        'mean smoothness', 'mean compactness', 'mean concavity',\n",
              "        'mean concave points', 'mean symmetry', 'mean fractal dimension',\n",
              "        'radius error', 'texture error', 'perimeter error', 'area error',\n",
              "        'smoothness error', 'compactness error', 'concavity error',\n",
              "        'concave points error', 'symmetry error',\n",
              "        'fractal dimension error', 'worst radius', 'worst texture',\n",
              "        'worst perimeter', 'worst area', 'worst smoothness',\n",
              "        'worst compactness', 'worst concavity', 'worst concave points',\n",
              "        'worst symmetry', 'worst fractal dimension'], dtype='<U23'),\n",
              " 'filename': '/usr/local/lib/python3.6/dist-packages/sklearn/datasets/data/breast_cancer.csv',\n",
              " 'target': array([0, 0, 0, 0, 0, 0, 0, 0, 0, 0, 0, 0, 0, 0, 0, 0, 0, 0, 0, 1, 1, 1,\n",
              "        0, 0, 0, 0, 0, 0, 0, 0, 0, 0, 0, 0, 0, 0, 0, 1, 0, 0, 0, 0, 0, 0,\n",
              "        0, 0, 1, 0, 1, 1, 1, 1, 1, 0, 0, 1, 0, 0, 1, 1, 1, 1, 0, 1, 0, 0,\n",
              "        1, 1, 1, 1, 0, 1, 0, 0, 1, 0, 1, 0, 0, 1, 1, 1, 0, 0, 1, 0, 0, 0,\n",
              "        1, 1, 1, 0, 1, 1, 0, 0, 1, 1, 1, 0, 0, 1, 1, 1, 1, 0, 1, 1, 0, 1,\n",
              "        1, 1, 1, 1, 1, 1, 1, 0, 0, 0, 1, 0, 0, 1, 1, 1, 0, 0, 1, 0, 1, 0,\n",
              "        0, 1, 0, 0, 1, 1, 0, 1, 1, 0, 1, 1, 1, 1, 0, 1, 1, 1, 1, 1, 1, 1,\n",
              "        1, 1, 0, 1, 1, 1, 1, 0, 0, 1, 0, 1, 1, 0, 0, 1, 1, 0, 0, 1, 1, 1,\n",
              "        1, 0, 1, 1, 0, 0, 0, 1, 0, 1, 0, 1, 1, 1, 0, 1, 1, 0, 0, 1, 0, 0,\n",
              "        0, 0, 1, 0, 0, 0, 1, 0, 1, 0, 1, 1, 0, 1, 0, 0, 0, 0, 1, 1, 0, 0,\n",
              "        1, 1, 1, 0, 1, 1, 1, 1, 1, 0, 0, 1, 1, 0, 1, 1, 0, 0, 1, 0, 1, 1,\n",
              "        1, 1, 0, 1, 1, 1, 1, 1, 0, 1, 0, 0, 0, 0, 0, 0, 0, 0, 0, 0, 0, 0,\n",
              "        0, 0, 1, 1, 1, 1, 1, 1, 0, 1, 0, 1, 1, 0, 1, 1, 0, 1, 0, 0, 1, 1,\n",
              "        1, 1, 1, 1, 1, 1, 1, 1, 1, 1, 1, 0, 1, 1, 0, 1, 0, 1, 1, 1, 1, 1,\n",
              "        1, 1, 1, 1, 1, 1, 1, 1, 1, 0, 1, 1, 1, 0, 1, 0, 1, 1, 1, 1, 0, 0,\n",
              "        0, 1, 1, 1, 1, 0, 1, 0, 1, 0, 1, 1, 1, 0, 1, 1, 1, 1, 1, 1, 1, 0,\n",
              "        0, 0, 1, 1, 1, 1, 1, 1, 1, 1, 1, 1, 1, 0, 0, 1, 0, 0, 0, 1, 0, 0,\n",
              "        1, 1, 1, 1, 1, 0, 1, 1, 1, 1, 1, 0, 1, 1, 1, 0, 1, 1, 0, 0, 1, 1,\n",
              "        1, 1, 1, 1, 0, 1, 1, 1, 1, 1, 1, 1, 0, 1, 1, 1, 1, 1, 0, 1, 1, 0,\n",
              "        1, 1, 1, 1, 1, 1, 1, 1, 1, 1, 1, 1, 0, 1, 0, 0, 1, 0, 1, 1, 1, 1,\n",
              "        1, 0, 1, 1, 0, 1, 0, 1, 1, 0, 1, 0, 1, 1, 1, 1, 1, 1, 1, 1, 0, 0,\n",
              "        1, 1, 1, 1, 1, 1, 0, 1, 1, 1, 1, 1, 1, 1, 1, 1, 1, 0, 1, 1, 1, 1,\n",
              "        1, 1, 1, 0, 1, 0, 1, 1, 0, 1, 1, 1, 1, 1, 0, 0, 1, 0, 1, 0, 1, 1,\n",
              "        1, 1, 1, 0, 1, 1, 0, 1, 0, 1, 0, 0, 1, 1, 1, 0, 1, 1, 1, 1, 1, 1,\n",
              "        1, 1, 1, 1, 1, 0, 1, 0, 0, 1, 1, 1, 1, 1, 1, 1, 1, 1, 1, 1, 1, 1,\n",
              "        1, 1, 1, 1, 1, 1, 1, 1, 1, 1, 1, 1, 0, 0, 0, 0, 0, 0, 1]),\n",
              " 'target_names': array(['malignant', 'benign'], dtype='<U9')}"
            ]
          },
          "metadata": {
            "tags": []
          },
          "execution_count": 17
        }
      ]
    },
    {
      "cell_type": "code",
      "metadata": {
        "id": "vZAcnrHOlZee",
        "colab_type": "code",
        "colab": {}
      },
      "source": [
        "# Features are computed from a digitized image of a fine needle aspirate (FNA) \n",
        "# of a breast mass. They describe characteristics of the cell nuclei present \n",
        "# in the image.\n",
        "\n",
        "# I feel that nuclear mean area, mean perimeter, mean radius, and \n",
        "# mean compactness might be related to a diagnosis of malignant(vs benign). \n",
        "# Considering the active mitosis of the malignant cell, the nuclear might \n",
        "# demonstrate larger area, perimeter, radius, and compactness."
      ],
      "execution_count": 0,
      "outputs": []
    },
    {
      "cell_type": "code",
      "metadata": {
        "id": "MdEybTtV1DEq",
        "colab_type": "code",
        "colab": {
          "base_uri": "https://localhost:8080/",
          "height": 153
        },
        "outputId": "240ef87a-2d45-4d13-cf21-6ed57266a63b"
      },
      "source": [
        "print(\"       mean_radius, mean_perimeter, mean_area, mean_compactness\")\n",
        "features = data['data'][:,[0, 2, 3, 5]]\n",
        "features"
      ],
      "execution_count": 19,
      "outputs": [
        {
          "output_type": "stream",
          "text": [
            "       mean_radius, mean_perimeter, mean_area, mean_compactness\n"
          ],
          "name": "stdout"
        },
        {
          "output_type": "execute_result",
          "data": {
            "text/plain": [
              "array([[1.799e+01, 1.228e+02, 1.001e+03, 2.776e-01],\n",
              "       [2.057e+01, 1.329e+02, 1.326e+03, 7.864e-02],\n",
              "       [1.969e+01, 1.300e+02, 1.203e+03, 1.599e-01],\n",
              "       ...,\n",
              "       [1.660e+01, 1.083e+02, 8.581e+02, 1.023e-01],\n",
              "       [2.060e+01, 1.401e+02, 1.265e+03, 2.770e-01],\n",
              "       [7.760e+00, 4.792e+01, 1.810e+02, 4.362e-02]])"
            ]
          },
          "metadata": {
            "tags": []
          },
          "execution_count": 19
        }
      ]
    },
    {
      "cell_type": "code",
      "metadata": {
        "id": "eUhHLviV6JSp",
        "colab_type": "code",
        "colab": {}
      },
      "source": [
        "# Creating feature and target array\n",
        "mean_radius, mean_perimeter, mean_area, mean_compactness = features.T\n",
        "target = data['target']"
      ],
      "execution_count": 0,
      "outputs": []
    },
    {
      "cell_type": "code",
      "metadata": {
        "id": "Tj9xML2c5OnX",
        "colab_type": "code",
        "colab": {
          "base_uri": "https://localhost:8080/",
          "height": 269
        },
        "outputId": "a4db3828-bb0f-478b-9c99-bc3703dd1331"
      },
      "source": [
        "# Plot a side by side boxplot comparing mean_radius between malignant and benign\n",
        "import matplotlib.pyplot as plt\n",
        "fig, ax = plt.subplots()\n",
        "box_dict = ax.boxplot([mean_radius[target == 0], mean_radius[target == 1]], \n",
        "                      patch_artist=True)\n",
        "ax.set_xticklabels(['malignant', 'benign'])\n",
        "ax.set_xticks([1, 2])\n",
        "colors = ['red', 'green']\n",
        "for sub_item,color in zip(box_dict['boxes'], colors):\n",
        "  plt.setp(sub_item, color=color)"
      ],
      "execution_count": 21,
      "outputs": [
        {
          "output_type": "display_data",
          "data": {
            "image/png": "[encoded data removed]",
            "text/plain": [
              "<Figure size 432x288 with 1 Axes>"
            ]
          },
          "metadata": {
            "tags": []
          }
        }
      ]
    },
    {
      "cell_type": "code",
      "metadata": {
        "id": "UV7j3ICFD2it",
        "colab_type": "code",
        "colab": {
          "base_uri": "https://localhost:8080/",
          "height": 269
        },
        "outputId": "d22893db-e3ac-4ba2-cc6c-c335b8171ac0"
      },
      "source": [
        "# Plot a side by side boxplot comparing mean_perimeter between malignant and benign\n",
        "import matplotlib.pyplot as plt\n",
        "colors = ['red','blue']\n",
        "fig, ax = plt.subplots()\n",
        "box_dict = ax.boxplot([mean_perimeter[target == 0], mean_perimeter[target == 1]],\n",
        "                     patch_artist=True)\n",
        "ax.set_xticklabels(['malignant', 'benign'])\n",
        "ax.set_xticks([1, 2])\n",
        "colors = ['red', 'green']\n",
        "for sub_item,color in zip(box_dict['boxes'], colors):\n",
        "  plt.setp(sub_item, color=color)"
      ],
      "execution_count": 22,
      "outputs": [
        {
          "output_type": "display_data",
          "data": {
            "image/png": "[encoded data removed]",
            "text/plain": [
              "<Figure size 432x288 with 1 Axes>"
            ]
          },
          "metadata": {
            "tags": []
          }
        }
      ]
    },
    {
      "cell_type": "code",
      "metadata": {
        "id": "A7-NM3ZKD2t8",
        "colab_type": "code",
        "colab": {
          "base_uri": "https://localhost:8080/",
          "height": 269
        },
        "outputId": "b4759263-b3d5-4610-db00-00fbebdff4b3"
      },
      "source": [
        "# Plot a side by side boxplot comparing mean_area between malignant and benign\n",
        "import matplotlib.pyplot as plt\n",
        "colors = ['red','blue']\n",
        "fig, ax = plt.subplots()\n",
        "box_dict = ax.boxplot([mean_area[target == 0], mean_area[target == 1]],\n",
        "                      patch_artist=True)\n",
        "ax.set_xticklabels(['malignant', 'benign'])\n",
        "ax.set_xticks([1, 2])\n",
        "colors = ['red', 'green']\n",
        "for sub_item,color in zip(box_dict['boxes'], colors):\n",
        "  plt.setp(sub_item, color=color)"
      ],
      "execution_count": 23,
      "outputs": [
        {
          "output_type": "display_data",
          "data": {
            "image/png": "[encoded data removed]",
            "text/plain": [
              "<Figure size 432x288 with 1 Axes>"
            ]
          },
          "metadata": {
            "tags": []
          }
        }
      ]
    },
    {
      "cell_type": "code",
      "metadata": {
        "id": "oF4Am832D23H",
        "colab_type": "code",
        "colab": {
          "base_uri": "https://localhost:8080/",
          "height": 269
        },
        "outputId": "ac321f35-1cd8-4924-8087-c1bd8d703ad1"
      },
      "source": [
        "# Plot a side by side boxplot comparing mean_compactness between malignant and benign\n",
        "import matplotlib.pyplot as plt\n",
        "colors = ['red','blue']\n",
        "fig, ax = plt.subplots()\n",
        "box_dict = ax.boxplot([mean_compactness[target == 0], mean_compactness[target == 1]],\n",
        "                     patch_artist=True)\n",
        "ax.set_xticklabels(['malignant', 'benign'])\n",
        "ax.set_xticks([1, 2])\n",
        "colors = ['red', 'green']\n",
        "for sub_item,color in zip(box_dict['boxes'], colors):\n",
        "  plt.setp(sub_item, color=color)"
      ],
      "execution_count": 24,
      "outputs": [
        {
          "output_type": "display_data",
          "data": {
            "image/png": "[encoded data removed]",
            "text/plain": [
              "<Figure size 432x288 with 1 Axes>"
            ]
          },
          "metadata": {
            "tags": []
          }
        }
      ]
    }
  ]
}